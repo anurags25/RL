{
  "nbformat": 4,
  "nbformat_minor": 0,
  "metadata": {
    "colab": {
      "name": "CSE 510: Project 1",
      "version": "0.3.2",
      "provenance": [],
      "collapsed_sections": [],
      "toc_visible": true
    },
    "kernelspec": {
      "name": "python3",
      "display_name": "Python 3"
    },
    "accelerator": "GPU"
  },
  "cells": [
    {
      "cell_type": "markdown",
      "metadata": {
        "id": "ounIqsT2tJPe",
        "colab_type": "text"
      },
      "source": [
        "##CSE 510: Building Reinforcement Learning Environment\n",
        "\n",
        "\n",
        "> Anurag Saykar <br>\n",
        "> email - anuragan@buffalo.edu <br>\n",
        "> UBID - 50286920\n",
        "\n"
      ]
    },
    {
      "cell_type": "markdown",
      "metadata": {
        "id": "cv0wgYhyKV3D",
        "colab_type": "text"
      },
      "source": [
        "# Installs and Imports"
      ]
    },
    {
      "cell_type": "code",
      "metadata": {
        "id": "Bl4kY6sRHpew",
        "colab_type": "code",
        "outputId": "f7f514c9-9ec4-4b6e-a6ff-a8de95e517ad",
        "colab": {
          "base_uri": "https://localhost:8080/",
          "height": 214
        }
      },
      "source": [
        "!pip install gym"
      ],
      "execution_count": 0,
      "outputs": [
        {
          "output_type": "stream",
          "text": [
            "Requirement already satisfied: gym in /usr/local/lib/python3.6/dist-packages (0.10.11)\n",
            "Requirement already satisfied: pyglet>=1.2.0 in /usr/local/lib/python3.6/dist-packages (from gym) (1.3.2)\n",
            "Requirement already satisfied: scipy in /usr/local/lib/python3.6/dist-packages (from gym) (1.3.0)\n",
            "Requirement already satisfied: requests>=2.0 in /usr/local/lib/python3.6/dist-packages (from gym) (2.21.0)\n",
            "Requirement already satisfied: numpy>=1.10.4 in /usr/local/lib/python3.6/dist-packages (from gym) (1.16.4)\n",
            "Requirement already satisfied: six in /usr/local/lib/python3.6/dist-packages (from gym) (1.12.0)\n",
            "Requirement already satisfied: future in /usr/local/lib/python3.6/dist-packages (from pyglet>=1.2.0->gym) (0.16.0)\n",
            "Requirement already satisfied: urllib3<1.25,>=1.21.1 in /usr/local/lib/python3.6/dist-packages (from requests>=2.0->gym) (1.24.3)\n",
            "Requirement already satisfied: chardet<3.1.0,>=3.0.2 in /usr/local/lib/python3.6/dist-packages (from requests>=2.0->gym) (3.0.4)\n",
            "Requirement already satisfied: certifi>=2017.4.17 in /usr/local/lib/python3.6/dist-packages (from requests>=2.0->gym) (2019.3.9)\n",
            "Requirement already satisfied: idna<2.9,>=2.5 in /usr/local/lib/python3.6/dist-packages (from requests>=2.0->gym) (2.8)\n"
          ],
          "name": "stdout"
        }
      ]
    },
    {
      "cell_type": "code",
      "metadata": {
        "id": "oZnluejfHRYG",
        "colab_type": "code",
        "colab": {}
      },
      "source": [
        "import numpy as np\n",
        "import gym\n",
        "from gym import spaces\n",
        "import matplotlib.pyplot as plt\n",
        "import random\n",
        "import time\n",
        "from google.colab import widgets\n",
        "from matplotlib import colors\n",
        "\n",
        "import pandas as pd"
      ],
      "execution_count": 0,
      "outputs": []
    },
    {
      "cell_type": "code",
      "metadata": {
        "id": "hcrPp7QPv_NL",
        "colab_type": "code",
        "outputId": "91eddbad-049a-4e02-949d-58a44af1c205",
        "colab": {
          "base_uri": "https://localhost:8080/",
          "height": 21
        }
      },
      "source": [
        "output_grid = widgets.Grid(1, 1)"
      ],
      "execution_count": 2,
      "outputs": [
        {
          "output_type": "display_data",
          "data": {
            "text/html": [
              "<style>\n",
              "       table#id2, #id2 > tbody > tr > th, #id2 > tbody > tr > td {\n",
              "         border: 1px solid lightgray;\n",
              "         border-collapse:collapse;\n",
              "         \n",
              "        }</style>"
            ],
            "text/plain": [
              "<IPython.core.display.HTML object>"
            ]
          },
          "metadata": {
            "tags": [
              "outputarea_id2"
            ]
          }
        },
        {
          "output_type": "display_data",
          "data": {
            "text/html": [
              "<table id=id2><tr><td id=id2-0-0></td></tr></table>"
            ],
            "text/plain": [
              "<IPython.core.display.HTML object>"
            ]
          },
          "metadata": {
            "tags": [
              "outputarea_id2"
            ]
          }
        }
      ]
    },
    {
      "cell_type": "markdown",
      "metadata": {
        "id": "-GZhdwY7SvoD",
        "colab_type": "text"
      },
      "source": [
        "#RL Environments"
      ]
    },
    {
      "cell_type": "markdown",
      "metadata": {
        "id": "pUwtVQziS2VG",
        "colab_type": "text"
      },
      "source": [
        "The environment is essentially the world with which the agent interacts.  \n",
        "\n",
        "![alt text](https://skymind.ai/images/wiki/simple_RL_schema.png)\n",
        "\n",
        "*Image from the RL Book by Sutton\n",
        "\n",
        "We can think of an environment as a (blackbox) function that takes in the current state and action and return the next state and reward.\n",
        "\n",
        "Theoritically speaking, it is enough for the agent to be able to interact with environment.\n",
        "\n",
        "However, from a implementation point of view an environment should not only allow the agent to take a particular action and recieve some reward, but also reset (i.e provide a start state at the beginning of an episode) itself.\n",
        "\n",
        "From training standpoint it is also important to have a rendering mechanism for easier debugging."
      ]
    },
    {
      "cell_type": "markdown",
      "metadata": {
        "id": "r8CGCLvbuu8U",
        "colab_type": "text"
      },
      "source": [
        "# Setting Up the Environment\n"
      ]
    },
    {
      "cell_type": "markdown",
      "metadata": {
        "id": "ej409ORvKK1-",
        "colab_type": "text"
      },
      "source": [
        "## Part 1 - Building a deterministic environment"
      ]
    },
    {
      "cell_type": "code",
      "metadata": {
        "id": "f7kSFPbGHxpe",
        "colab_type": "code",
        "colab": {}
      },
      "source": [
        "class GridEnvironment(gym.Env):\n",
        "    metadata = { 'render.modes': [] }\n",
        "    \n",
        "    def __init__(self, stochastic=0.0):\n",
        "        self.observation_space = spaces.Box(low=0, high=0, shape=(5,5), dtype=np.int32)\n",
        "        self.action_space = spaces.Discrete(4)\n",
        "        self.max_timesteps = 30\n",
        "        \n",
        "        self.jerry = plt.imread('jerry.jpg', format='jpg')\n",
        "        self.tom = plt.imread('tom.png', format='png')\n",
        "        self.cheese = plt.imread('cheese.jpg', format='jpg')\n",
        "        self.trap = plt.imread('mouse_trap.jpg', format='jpg')\n",
        "        self.goal = plt.imread('goal.jpg', format='jpg')\n",
        "        self.p = stochastic\n",
        "    \n",
        "    def make_environment(self, obs_space):\n",
        "        size = obs_space.size\n",
        "        n_cheese = [1 for c in range(size//5)]\n",
        "        n_obstacles = [2 for o in range(size//10)]\n",
        "        n_empty = size - size//5 - size//10 - 3\n",
        "        jerry, tom, goal = 0.5, 3, 4\n",
        "        tmp_space = [0 for e in range(n_empty)] + [0, 0, 0] + n_cheese + n_obstacles\n",
        "        obs_space = np.array(tmp_space, dtype=np.float32).reshape((5,5))\n",
        "        #print (obs_space)\n",
        "        np.random.seed(42)\n",
        "        np.random.shuffle(obs_space.flat)\n",
        "        obs_space[0, 0] = 0.5\n",
        "        obs_space[4, 2] = 3\n",
        "        obs_space[4, 4] = 4\n",
        "        #print (obs_space)\n",
        "        return obs_space\n",
        "        \n",
        "    def reset(self):\n",
        "        self.timestep = 0\n",
        "        tmp_state = self.observation_space.sample()\n",
        "        self.space = self.make_environment(tmp_state)\n",
        "        goal = np.where(self.space == 4.0)\n",
        "        self.goal_pos = [goal[0][0], goal[1][0]]\n",
        "        agent = np.where(self.space == 0.5)\n",
        "        #print (agent)\n",
        "        self.agent_pos = [agent[0][0], agent[1][0]]\n",
        "        self.obs_sample = self.space.flatten()\n",
        "        state = self.agent_pos[0] * 5 + self.agent_pos[1]\n",
        "        return state\n",
        "    \n",
        "    def step(self, action):\n",
        "        #self.state = np.random.choice(self.observation_space.n)\n",
        "        old_pos = self.agent_pos.copy()\n",
        "        if action == 0:\n",
        "          self.agent_pos[0] += 1\n",
        "        if action == 1:\n",
        "          self.agent_pos[0] -= 1\n",
        "        if action == 2:\n",
        "          self.agent_pos[1] += 1\n",
        "        if action == 3:\n",
        "          self.agent_pos[1] -= 1\n",
        "          \n",
        "        self.agent_pos = np.clip(self.agent_pos, 0, 4)\n",
        "        \n",
        "        #print ('old_pos', old_pos, 'agent_pos', self.agent_pos, 'action', action)\n",
        "        \n",
        "        reward = 0\n",
        "        done = False\n",
        "        \n",
        "        #update the observation space\n",
        "        self.space[tuple(old_pos)] = 0.0\n",
        "        \n",
        "        #make the environment stochastic\n",
        "        p = np.random.choice(2, p=[self.p, 1 - self.p])\n",
        "        if p == 0:\n",
        "          self.space[tuple(old_pos)] = 0.5\n",
        "          self.agent_pos = old_pos\n",
        "        \n",
        "        if self.space[tuple(self.agent_pos)] == 0:\n",
        "          self.space[tuple(self.agent_pos)] = 0.5\n",
        "        if self.space[tuple(self.agent_pos)] == 1:\n",
        "          self.space[tuple(self.agent_pos)] = 0.5\n",
        "          reward += 10 #found cheese!\n",
        "        if self.space[tuple(self.agent_pos)] == 2:\n",
        "          self.space[tuple(old_pos)] = 0.5\n",
        "          self.agent_pos = old_pos\n",
        "          reward -= 10\n",
        "        if self.space[tuple(self.agent_pos)] == 3:\n",
        "          reward -= 100\n",
        "          #print ('should start new episode')\n",
        "          done = True\n",
        "        if self.space[tuple(self.agent_pos)] == 4:\n",
        "          reward += 100\n",
        "          done = True\n",
        "        \n",
        "        self.obs_sample = self.space.flatten()\n",
        "        \n",
        "        self.timestep += 1\n",
        "        if self.timestep >= self.max_timesteps:\n",
        "          done = True \n",
        "        info = {}\n",
        "        \n",
        "        state = self.agent_pos[0] * 5 + self.agent_pos[1]\n",
        "        \n",
        "        return state, reward, done, info\n",
        "    \n",
        "    def render_objects(self, val, img):\n",
        "        locs = np.where(self.space == val)\n",
        "        for x, y in zip(locs[0], locs[1]):\n",
        "          plt.imshow(img, extent=[x - 0.5, x + 0.5, y - 0.5, y + 0.5])\n",
        "\n",
        "    def render(self):\n",
        "        cmap = colors.ListedColormap(['white'])\n",
        "        plt.imshow(self.space, cmap=cmap)\n",
        "        self.render_objects(1, self.cheese)\n",
        "        self.render_objects(2, self.trap)\n",
        "        self.render_objects(0.5, self.jerry)\n",
        "        self.render_objects(3, self.tom)\n",
        "        self.render_objects(4, self.goal)\n",
        "        plt.plot()"
      ],
      "execution_count": 0,
      "outputs": []
    },
    {
      "cell_type": "markdown",
      "metadata": {
        "id": "xw8oM5aUI6jv",
        "colab_type": "text"
      },
      "source": [
        "## The Big Picture:\n",
        "\n"
      ]
    },
    {
      "cell_type": "code",
      "metadata": {
        "id": "MsgVbwMYIYQH",
        "colab_type": "code",
        "outputId": "f5689922-baa0-4545-faca-8112e6112627",
        "colab": {
          "base_uri": "https://localhost:8080/",
          "height": 269
        }
      },
      "source": [
        "env = GridEnvironment()\n",
        "obs = env.reset()\n",
        "env.render()"
      ],
      "execution_count": 5,
      "outputs": [
        {
          "output_type": "display_data",
          "data": {
            "image/png": "[encoded data removed]",
            "text/plain": [
              "<Figure size 432x288 with 1 Axes>"
            ]
          },
          "metadata": {
            "tags": []
          }
        }
      ]
    },
    {
      "cell_type": "markdown",
      "metadata": {
        "id": "VyB-dyj4weeo",
        "colab_type": "text"
      },
      "source": [
        "Here we're defining a 5x5 grid world representing a Tom & Jerry Game.  "
      ]
    },
    {
      "cell_type": "markdown",
      "metadata": {
        "id": "QCwXq4fAKdA6",
        "colab_type": "text"
      },
      "source": [
        "Jerry can move one tile at a time. The goal is to get home (4, 4) as quickly as possible. \n",
        "\n",
        "---\n",
        "This can be evaluated using a scoring system as follows:\n",
        "\n",
        "\n",
        "\n",
        "*   -1 point at each step (helps agent to be fast).\n",
        "*   If Jerry runs into Tom, -100 points and the episode ends.\n",
        "*   -10 points if Jerry runs into Traps.\n",
        "*   +10 points for cheese.\n",
        "*   +100 points if Jerry reaches home and the episode ends.\n",
        "\n"
      ]
    },
    {
      "cell_type": "markdown",
      "metadata": {
        "id": "3mgNTJ7Lxq4n",
        "colab_type": "text"
      },
      "source": [
        "All element are static i.e P(s′, r|s, a) ={0,1}. In other words, the agent can deterministically move (or not!) in a location should he choose to.\n",
        "\n",
        "The transition probability matrix for the above deterministic environment would be a 25x25 matrix.\n",
        "\n",
        "Consider an example of a 2x2 grid world for easier visualization. The transition matrix for a deterministic gridworld would look as follows:"
      ]
    },
    {
      "cell_type": "code",
      "metadata": {
        "id": "iIkrYejT104V",
        "colab_type": "code",
        "outputId": "742dec02-384b-4af0-e261-cff88c1709b8",
        "colab": {
          "base_uri": "https://localhost:8080/",
          "height": 228
        }
      },
      "source": [
        "grid = np.array([[0,1], [2,3]])\n",
        "print ('Grid World')\n",
        "print (grid)\n",
        "transition_matrix = np.eye(grid.size) * 0.5\n",
        "transition_matrix[0, 1], transition_matrix[0, 2] = 0.25, 0.25\n",
        "\n",
        "transition_matrix[1, 0], transition_matrix[1, 3] = 0.25, 0.25\n",
        "\n",
        "transition_matrix[2, 0], transition_matrix[2, 3] = 0.25, 0.25\n",
        "\n",
        "transition_matrix[3, 1], transition_matrix[3, 2] = 0.25, 0.25\n",
        "\n",
        "transition_df = pd.DataFrame(transition_matrix, columns=[0,1,2,3])\n",
        "\n",
        "transition_df"
      ],
      "execution_count": 8,
      "outputs": [
        {
          "output_type": "stream",
          "text": [
            "Grid World\n",
            "[[0 1]\n",
            " [2 3]]\n"
          ],
          "name": "stdout"
        },
        {
          "output_type": "execute_result",
          "data": {
            "text/html": [
              "<div>\n",
              "<style scoped>\n",
              "    .dataframe tbody tr th:only-of-type {\n",
              "        vertical-align: middle;\n",
              "    }\n",
              "\n",
              "    .dataframe tbody tr th {\n",
              "        vertical-align: top;\n",
              "    }\n",
              "\n",
              "    .dataframe thead th {\n",
              "        text-align: right;\n",
              "    }\n",
              "</style>\n",
              "<table border=\"1\" class=\"dataframe\">\n",
              "  <thead>\n",
              "    <tr style=\"text-align: right;\">\n",
              "      <th></th>\n",
              "      <th>0</th>\n",
              "      <th>1</th>\n",
              "      <th>2</th>\n",
              "      <th>3</th>\n",
              "    </tr>\n",
              "  </thead>\n",
              "  <tbody>\n",
              "    <tr>\n",
              "      <th>0</th>\n",
              "      <td>0.50</td>\n",
              "      <td>0.25</td>\n",
              "      <td>0.25</td>\n",
              "      <td>0.00</td>\n",
              "    </tr>\n",
              "    <tr>\n",
              "      <th>1</th>\n",
              "      <td>0.25</td>\n",
              "      <td>0.50</td>\n",
              "      <td>0.00</td>\n",
              "      <td>0.25</td>\n",
              "    </tr>\n",
              "    <tr>\n",
              "      <th>2</th>\n",
              "      <td>0.25</td>\n",
              "      <td>0.00</td>\n",
              "      <td>0.50</td>\n",
              "      <td>0.25</td>\n",
              "    </tr>\n",
              "    <tr>\n",
              "      <th>3</th>\n",
              "      <td>0.00</td>\n",
              "      <td>0.25</td>\n",
              "      <td>0.25</td>\n",
              "      <td>0.50</td>\n",
              "    </tr>\n",
              "  </tbody>\n",
              "</table>\n",
              "</div>"
            ],
            "text/plain": [
              "      0     1     2     3\n",
              "0  0.50  0.25  0.25  0.00\n",
              "1  0.25  0.50  0.00  0.25\n",
              "2  0.25  0.00  0.50  0.25\n",
              "3  0.00  0.25  0.25  0.50"
            ]
          },
          "metadata": {
            "tags": []
          },
          "execution_count": 8
        }
      ]
    },
    {
      "cell_type": "markdown",
      "metadata": {
        "id": "TMDKo0dZDU2C",
        "colab_type": "text"
      },
      "source": [
        "<h5>*The above table assumes that every action (left, right, up and down) is equally probable.</h5>\n",
        "\n",
        "The rows represent start state and the columns show the end state, with each cell value being the probability the that particular transition.\n",
        "\n",
        "The 0's represent invalid moves (i.e since the agent cannot move diagonally, it cannot go from state 0 to state 3 directly).\n",
        "\n",
        "At the edge of the grid (eg. state 0), certain actions (up and left) end up with the agent in the same state.\n",
        "\n",
        "Since the values are probabilities, they (should) sum up to 1. The **transition matrix allows** us a complete **overview of the agent's environment** and such the agent itself does not need to reference the matrix directly."
      ]
    },
    {
      "cell_type": "markdown",
      "metadata": {
        "id": "_J8RGIYtIe1q",
        "colab_type": "text"
      },
      "source": [
        "##Part 2 - Building a stochastic environment"
      ]
    },
    {
      "cell_type": "markdown",
      "metadata": {
        "id": "hatSI31lJCf2",
        "colab_type": "text"
      },
      "source": [
        "In a deterministic environment next state s' is determined by the agent's current state and/or action alone. i.e there is absolutely no uncertainty or more precisely, all *uncertainty is* ***ignored***.\n",
        "\n",
        "In stochastic environments, there is always an element of randomness, either with the environment or the policy . \n",
        "\n",
        "The Tom & Jerry environment can be made stochastic in various ways, by allowing Tom to move, or even randomizing the start location of the agent. \n",
        "\n",
        "For the sake of simplicity, we'll add a small chance ~4% that Jerry may slip while moving and stay in the same state.\n",
        "\n",
        "This would result in the following transition matrix: "
      ]
    },
    {
      "cell_type": "code",
      "metadata": {
        "id": "UwPX18m5fl1U",
        "colab_type": "code",
        "outputId": "8bcc665a-efc5-44cf-c460-3db21745ba3e",
        "colab": {
          "base_uri": "https://localhost:8080/",
          "height": 228
        }
      },
      "source": [
        "grid = np.array([[0,1], [2,3]])\n",
        "print ('Grid World')\n",
        "print (grid)\n",
        "transition_matrix = np.eye(grid.size) * 0.52\n",
        "transition_matrix[0, 1], transition_matrix[0, 2] = 0.24, 0.24\n",
        "\n",
        "transition_matrix[1, 0], transition_matrix[1, 3] = 0.24, 0.24\n",
        "\n",
        "transition_matrix[2, 0], transition_matrix[2, 3] = 0.24, 0.24\n",
        "\n",
        "transition_matrix[3, 1], transition_matrix[3, 2] = 0.24, 0.24\n",
        "\n",
        "transition_df = pd.DataFrame(transition_matrix, columns=[0,1,2,3])\n",
        "\n",
        "transition_df"
      ],
      "execution_count": 9,
      "outputs": [
        {
          "output_type": "stream",
          "text": [
            "Grid World\n",
            "[[0 1]\n",
            " [2 3]]\n"
          ],
          "name": "stdout"
        },
        {
          "output_type": "execute_result",
          "data": {
            "text/html": [
              "<div>\n",
              "<style scoped>\n",
              "    .dataframe tbody tr th:only-of-type {\n",
              "        vertical-align: middle;\n",
              "    }\n",
              "\n",
              "    .dataframe tbody tr th {\n",
              "        vertical-align: top;\n",
              "    }\n",
              "\n",
              "    .dataframe thead th {\n",
              "        text-align: right;\n",
              "    }\n",
              "</style>\n",
              "<table border=\"1\" class=\"dataframe\">\n",
              "  <thead>\n",
              "    <tr style=\"text-align: right;\">\n",
              "      <th></th>\n",
              "      <th>0</th>\n",
              "      <th>1</th>\n",
              "      <th>2</th>\n",
              "      <th>3</th>\n",
              "    </tr>\n",
              "  </thead>\n",
              "  <tbody>\n",
              "    <tr>\n",
              "      <th>0</th>\n",
              "      <td>0.52</td>\n",
              "      <td>0.24</td>\n",
              "      <td>0.24</td>\n",
              "      <td>0.00</td>\n",
              "    </tr>\n",
              "    <tr>\n",
              "      <th>1</th>\n",
              "      <td>0.24</td>\n",
              "      <td>0.52</td>\n",
              "      <td>0.00</td>\n",
              "      <td>0.24</td>\n",
              "    </tr>\n",
              "    <tr>\n",
              "      <th>2</th>\n",
              "      <td>0.24</td>\n",
              "      <td>0.00</td>\n",
              "      <td>0.52</td>\n",
              "      <td>0.24</td>\n",
              "    </tr>\n",
              "    <tr>\n",
              "      <th>3</th>\n",
              "      <td>0.00</td>\n",
              "      <td>0.24</td>\n",
              "      <td>0.24</td>\n",
              "      <td>0.52</td>\n",
              "    </tr>\n",
              "  </tbody>\n",
              "</table>\n",
              "</div>"
            ],
            "text/plain": [
              "      0     1     2     3\n",
              "0  0.52  0.24  0.24  0.00\n",
              "1  0.24  0.52  0.00  0.24\n",
              "2  0.24  0.00  0.52  0.24\n",
              "3  0.00  0.24  0.24  0.52"
            ]
          },
          "metadata": {
            "tags": []
          },
          "execution_count": 9
        }
      ]
    },
    {
      "cell_type": "markdown",
      "metadata": {
        "id": "xl-TR2ZlgeY9",
        "colab_type": "text"
      },
      "source": [
        "This can be explained as follows:\n",
        "\n",
        "For state 0: 4% probability to stay in the same state, which gives the neighbouring states the probability of 24% each, and since the top and left neighbour of state 0 is state 0 itself, the transition probability is .24 + .24 + .04 = .52"
      ]
    },
    {
      "cell_type": "markdown",
      "metadata": {
        "id": "l3ZFnZjMMeZF",
        "colab_type": "text"
      },
      "source": [
        "# The Q(uality of Action)-Table\n",
        "\n",
        "\n",
        "Strategy: create a table where we’ll calculate the maximum expected future reward, for each action at each state.\n",
        "\n",
        "The agent uses the Q Table as a cheat sheet, to navigate the environment. \n",
        "\n",
        "![alt text](https://cdn-images-1.medium.com/max/800/1*kwu9TImqAWZCiooj3pLyCA.png)\n",
        "\n",
        "\n",
        "*But how will we calculate the q-values!?*\n",
        "\n",
        "## The Bellman Equation\n",
        "\n",
        "![alt text](https://cdn-images-1.medium.com/max/2400/1*jmcVWHHbzCxDc-irBy9JTw.png)"
      ]
    },
    {
      "cell_type": "markdown",
      "metadata": {
        "id": "4kptqezlQcrv",
        "colab_type": "text"
      },
      "source": [
        "# The Q Learning Algorithm\n",
        "\n",
        "![alt text](https://cdn-images-1.medium.com/max/800/1*QeoQEqWYYPs1P8yUwyaJVQ.png)\n",
        "\n",
        "*Image Credits: Thomas Simonini"
      ]
    },
    {
      "cell_type": "code",
      "metadata": {
        "id": "tJnH4MMNRI0W",
        "colab_type": "code",
        "colab": {}
      },
      "source": [
        "class Q_Agent:\n",
        "  def __init__(self, env, learning_rate, gamma):\n",
        "    self.env = env\n",
        "    self.observation_space = env.space\n",
        "    self.action_space = env.action_space\n",
        "    self.learning_rate = learning_rate\n",
        "    self.gamma = gamma\n",
        "    self.q_table = np.zeros((self.observation_space.size, self.action_space.n))\n",
        "  \n",
        "  def step(self, state, tradeoff, epsilon):\n",
        "    # Exploit (the biggest Q value for this state)\n",
        "    if tradeoff > epsilon:\n",
        "      action = np.argmax(self.q_table[state,:])\n",
        "    # Else doing a random choice --> exploration\n",
        "    else:\n",
        "      action = self.action_space.sample()\n",
        "    return action\n",
        "  \n",
        "  def update(self, state, action, new_state, reward):\n",
        "    self.q_table[state, action] = self.q_table[state, action] + self.learning_rate * (reward + self.gamma * np.max(self.q_table[new_state, :]) - self.q_table[state, action]) "
      ],
      "execution_count": 0,
      "outputs": []
    },
    {
      "cell_type": "markdown",
      "metadata": {
        "id": "Sl_62lKNSLkR",
        "colab_type": "text"
      },
      "source": [
        "### But…what action can we take in the beginning, if every Q-value equals zero?\n",
        "\n",
        "## The Exploration/Exploitation trade-off\n",
        "\n",
        "* We specify an exploration rate “epsilon,” which we set to 1 in the beginning. This is the rate of steps that we’ll do randomly. In the beginning, this rate must be at its highest value, because we don’t know anything about the values in Q-table. This means we need to do a lot of exploration, by randomly choosing our actions.\n",
        "\n",
        "* We generate a random number. If this number > epsilon, then we will do “exploitation” (this means we use what we already know to select the best action at each step). Else, we’ll do exploration.\n",
        "\n",
        "* The idea is that we must have a big epsilon at the beginning of the training of the Q-function. Then, reduce it progressively as the agent becomes more confident at estimating Q-values.\n",
        "\n",
        "![alt text](https://cdn-images-1.medium.com/max/800/1*9StLEbor62FUDSoRwxyJrg.png)"
      ]
    },
    {
      "cell_type": "markdown",
      "metadata": {
        "id": "SJO7JsOrWfxK",
        "colab_type": "text"
      },
      "source": [
        "#Training & Results"
      ]
    },
    {
      "cell_type": "markdown",
      "metadata": {
        "id": "c9CdY2duXE_8",
        "colab_type": "text"
      },
      "source": [
        "##Deterministic Environment"
      ]
    },
    {
      "cell_type": "code",
      "metadata": {
        "id": "AZbvGYQDgLIo",
        "colab_type": "code",
        "colab": {}
      },
      "source": [
        "env = GridEnvironment()\n",
        "env.reset()\n",
        "\n",
        "q_agent = Q_Agent(env, learning_rate=0.95, gamma=0.96)\n",
        "\n",
        "total_episodes = 3500\n",
        "\n",
        "# Exploration parameters\n",
        "epsilon = 1.0                 # Exploration rate\n",
        "max_epsilon = 1.0             # Exploration probability at start\n",
        "min_epsilon = 0.01            # Minimum exploration probability \n",
        "decay_rate = 0.005             # Exponential decay rate for exploration prob"
      ],
      "execution_count": 0,
      "outputs": []
    },
    {
      "cell_type": "code",
      "metadata": {
        "id": "ujFqsvCRRL6H",
        "colab_type": "code",
        "outputId": "c65c77cc-646a-4e75-c5fe-87242ae98518",
        "colab": {
          "base_uri": "https://localhost:8080/",
          "height": 142
        }
      },
      "source": [
        "rewards = []\n",
        "epsilons = []\n",
        "\n",
        "for episode in range(total_episodes):\n",
        "  state = env.reset()\n",
        "  \n",
        "  total_rewards = 0\n",
        "  \n",
        "  done = False\n",
        "  if episode % 500 == 0:\n",
        "    print ('Episode No:', episode)\n",
        "  while not done:\n",
        "    tradeoff = random.uniform(0, 1)\n",
        "    action = q_agent.step(state, tradeoff, epsilon)\n",
        "    new_state, reward, done, info = q_agent.env.step(action)\n",
        "    \n",
        "    reward -= 1\n",
        "    \n",
        "    #similar to stochastic gradient descent\n",
        "    q_agent.update(state, action, new_state, reward)\n",
        "    \n",
        "    total_rewards += reward\n",
        "    \n",
        "    state = new_state\n",
        "    #rendering mades the training very slow\n",
        "    #with output_grid.output_to(0, 0):\n",
        "    #  output_grid.clear_cell()\n",
        "    #  env.render()\n",
        "    #time.sleep(1)\n",
        "\n",
        "  epsilon = min_epsilon + (max_epsilon - min_epsilon)*np.exp(-decay_rate*episode)\n",
        "  epsilons.append(epsilon)\n",
        "  rewards.append(total_rewards)"
      ],
      "execution_count": 25,
      "outputs": [
        {
          "output_type": "stream",
          "text": [
            "Episode No: 0\n",
            "Episode No: 500\n",
            "Episode No: 1000\n",
            "Episode No: 1500\n",
            "Episode No: 2000\n",
            "Episode No: 2500\n",
            "Episode No: 3000\n"
          ],
          "name": "stdout"
        }
      ]
    },
    {
      "cell_type": "code",
      "metadata": {
        "id": "dscIyyk_50BJ",
        "colab_type": "code",
        "outputId": "37d455c9-679c-4f8c-cf2d-69dfea5da0dc",
        "colab": {
          "base_uri": "https://localhost:8080/",
          "height": 287
        }
      },
      "source": [
        "# Everything is a hyper parameter!\n",
        "plt.plot(rewards)"
      ],
      "execution_count": 26,
      "outputs": [
        {
          "output_type": "execute_result",
          "data": {
            "text/plain": [
              "[<matplotlib.lines.Line2D at 0x7fd02bb6dd68>]"
            ]
          },
          "metadata": {
            "tags": []
          },
          "execution_count": 26
        },
        {
          "output_type": "display_data",
          "data": {
            "image/png": "[encoded data removed]",
            "text/plain": [
              "<Figure size 432x288 with 1 Axes>"
            ]
          },
          "metadata": {
            "tags": []
          }
        }
      ]
    },
    {
      "cell_type": "code",
      "metadata": {
        "id": "M5TaThli_Y2N",
        "colab_type": "code",
        "outputId": "f5dbf66f-1103-4c9f-fc81-74603a1cee8d",
        "colab": {
          "base_uri": "https://localhost:8080/",
          "height": 287
        }
      },
      "source": [
        "#moving average makes it easier to see the trend\n",
        "df = pd.DataFrame(rewards, columns=['r'])\n",
        "rolling_mean = df['r'].rolling(window=25).mean()\n",
        "plt.plot(rolling_mean)"
      ],
      "execution_count": 27,
      "outputs": [
        {
          "output_type": "execute_result",
          "data": {
            "text/plain": [
              "[<matplotlib.lines.Line2D at 0x7fd02b94dc88>]"
            ]
          },
          "metadata": {
            "tags": []
          },
          "execution_count": 27
        },
        {
          "output_type": "display_data",
          "data": {
            "image/png": "[encoded data removed]",
            "text/plain": [
              "<Figure size 432x288 with 1 Axes>"
            ]
          },
          "metadata": {
            "tags": []
          }
        }
      ]
    },
    {
      "cell_type": "code",
      "metadata": {
        "id": "RHKLz3GLgwr0",
        "colab_type": "code",
        "outputId": "231badc7-b89f-48da-a1b8-3e59fc0bd0d4",
        "colab": {
          "base_uri": "https://localhost:8080/",
          "height": 287
        }
      },
      "source": [
        "plt.plot(epsilons)"
      ],
      "execution_count": 15,
      "outputs": [
        {
          "output_type": "execute_result",
          "data": {
            "text/plain": [
              "[<matplotlib.lines.Line2D at 0x7fd02bb81ba8>]"
            ]
          },
          "metadata": {
            "tags": []
          },
          "execution_count": 15
        },
        {
          "output_type": "display_data",
          "data": {
            "image/png": "[encoded data removed]",
            "text/plain": [
              "<Figure size 432x288 with 1 Axes>"
            ]
          },
          "metadata": {
            "tags": []
          }
        }
      ]
    },
    {
      "cell_type": "code",
      "metadata": {
        "id": "mCevi2LveTIc",
        "colab_type": "code",
        "outputId": "c97b18e8-5a54-41c5-ab24-76073f495dd2",
        "colab": {
          "base_uri": "https://localhost:8080/",
          "height": 834
        }
      },
      "source": [
        "# the states are numbered vertically, bottom up\n",
        "# action indices 0, 1, 2, 3 correspond to right, left, up ,down\n",
        "# agent chooses the action with max q value for that particular state\n",
        "q_df = pd.DataFrame(q_agent.q_table, columns=['right', 'left', 'up' ,'down'])\n",
        "q_df"
      ],
      "execution_count": 28,
      "outputs": [
        {
          "output_type": "execute_result",
          "data": {
            "text/html": [
              "<div>\n",
              "<style scoped>\n",
              "    .dataframe tbody tr th:only-of-type {\n",
              "        vertical-align: middle;\n",
              "    }\n",
              "\n",
              "    .dataframe tbody tr th {\n",
              "        vertical-align: top;\n",
              "    }\n",
              "\n",
              "    .dataframe thead th {\n",
              "        text-align: right;\n",
              "    }\n",
              "</style>\n",
              "<table border=\"1\" class=\"dataframe\">\n",
              "  <thead>\n",
              "    <tr style=\"text-align: right;\">\n",
              "      <th></th>\n",
              "      <th>right</th>\n",
              "      <th>left</th>\n",
              "      <th>up</th>\n",
              "      <th>down</th>\n",
              "    </tr>\n",
              "  </thead>\n",
              "  <tbody>\n",
              "    <tr>\n",
              "      <th>0</th>\n",
              "      <td>93.008152</td>\n",
              "      <td>83.634366</td>\n",
              "      <td>86.660398</td>\n",
              "      <td>83.430065</td>\n",
              "    </tr>\n",
              "    <tr>\n",
              "      <th>1</th>\n",
              "      <td>97.474367</td>\n",
              "      <td>79.421554</td>\n",
              "      <td>79.708487</td>\n",
              "      <td>79.726882</td>\n",
              "    </tr>\n",
              "    <tr>\n",
              "      <th>2</th>\n",
              "      <td>83.462312</td>\n",
              "      <td>79.520131</td>\n",
              "      <td>73.329885</td>\n",
              "      <td>83.153209</td>\n",
              "    </tr>\n",
              "    <tr>\n",
              "      <th>3</th>\n",
              "      <td>0.000000</td>\n",
              "      <td>0.000000</td>\n",
              "      <td>0.000000</td>\n",
              "      <td>0.000000</td>\n",
              "    </tr>\n",
              "    <tr>\n",
              "      <th>4</th>\n",
              "      <td>84.074506</td>\n",
              "      <td>61.616296</td>\n",
              "      <td>61.636615</td>\n",
              "      <td>76.696311</td>\n",
              "    </tr>\n",
              "    <tr>\n",
              "      <th>5</th>\n",
              "      <td>87.919404</td>\n",
              "      <td>73.830764</td>\n",
              "      <td>97.925158</td>\n",
              "      <td>87.561074</td>\n",
              "    </tr>\n",
              "    <tr>\n",
              "      <th>6</th>\n",
              "      <td>91.138729</td>\n",
              "      <td>91.074453</td>\n",
              "      <td>103.047040</td>\n",
              "      <td>92.590326</td>\n",
              "    </tr>\n",
              "    <tr>\n",
              "      <th>7</th>\n",
              "      <td>83.740041</td>\n",
              "      <td>82.671820</td>\n",
              "      <td>108.382333</td>\n",
              "      <td>87.646795</td>\n",
              "    </tr>\n",
              "    <tr>\n",
              "      <th>8</th>\n",
              "      <td>103.523264</td>\n",
              "      <td>73.904881</td>\n",
              "      <td>84.996803</td>\n",
              "      <td>85.266742</td>\n",
              "    </tr>\n",
              "    <tr>\n",
              "      <th>9</th>\n",
              "      <td>82.650444</td>\n",
              "      <td>82.144704</td>\n",
              "      <td>84.162539</td>\n",
              "      <td>83.476580</td>\n",
              "    </tr>\n",
              "    <tr>\n",
              "      <th>10</th>\n",
              "      <td>91.763571</td>\n",
              "      <td>92.652279</td>\n",
              "      <td>78.363577</td>\n",
              "      <td>79.537678</td>\n",
              "    </tr>\n",
              "    <tr>\n",
              "      <th>11</th>\n",
              "      <td>106.128400</td>\n",
              "      <td>88.935816</td>\n",
              "      <td>90.466987</td>\n",
              "      <td>87.205798</td>\n",
              "    </tr>\n",
              "    <tr>\n",
              "      <th>12</th>\n",
              "      <td>112.629260</td>\n",
              "      <td>83.655266</td>\n",
              "      <td>86.106791</td>\n",
              "      <td>84.307100</td>\n",
              "    </tr>\n",
              "    <tr>\n",
              "      <th>13</th>\n",
              "      <td>108.878400</td>\n",
              "      <td>89.238463</td>\n",
              "      <td>89.652292</td>\n",
              "      <td>88.552783</td>\n",
              "    </tr>\n",
              "    <tr>\n",
              "      <th>14</th>\n",
              "      <td>80.221123</td>\n",
              "      <td>86.685697</td>\n",
              "      <td>86.151570</td>\n",
              "      <td>93.051081</td>\n",
              "    </tr>\n",
              "    <tr>\n",
              "      <th>15</th>\n",
              "      <td>78.802077</td>\n",
              "      <td>96.102279</td>\n",
              "      <td>106.077670</td>\n",
              "      <td>79.945212</td>\n",
              "    </tr>\n",
              "    <tr>\n",
              "      <th>16</th>\n",
              "      <td>93.510178</td>\n",
              "      <td>93.629118</td>\n",
              "      <td>113.433101</td>\n",
              "      <td>84.501198</td>\n",
              "    </tr>\n",
              "    <tr>\n",
              "      <th>17</th>\n",
              "      <td>-101.000000</td>\n",
              "      <td>99.140842</td>\n",
              "      <td>99.312929</td>\n",
              "      <td>97.997858</td>\n",
              "    </tr>\n",
              "    <tr>\n",
              "      <th>18</th>\n",
              "      <td>104.040000</td>\n",
              "      <td>103.480289</td>\n",
              "      <td>88.878400</td>\n",
              "      <td>102.803964</td>\n",
              "    </tr>\n",
              "    <tr>\n",
              "      <th>19</th>\n",
              "      <td>0.000000</td>\n",
              "      <td>0.000000</td>\n",
              "      <td>0.000000</td>\n",
              "      <td>0.000000</td>\n",
              "    </tr>\n",
              "    <tr>\n",
              "      <th>20</th>\n",
              "      <td>81.961484</td>\n",
              "      <td>101.678403</td>\n",
              "      <td>77.729639</td>\n",
              "      <td>79.270549</td>\n",
              "    </tr>\n",
              "    <tr>\n",
              "      <th>21</th>\n",
              "      <td>79.477611</td>\n",
              "      <td>90.392594</td>\n",
              "      <td>-101.000000</td>\n",
              "      <td>80.827032</td>\n",
              "    </tr>\n",
              "    <tr>\n",
              "      <th>22</th>\n",
              "      <td>0.000000</td>\n",
              "      <td>0.000000</td>\n",
              "      <td>0.000000</td>\n",
              "      <td>0.000000</td>\n",
              "    </tr>\n",
              "    <tr>\n",
              "      <th>23</th>\n",
              "      <td>94.040000</td>\n",
              "      <td>98.878400</td>\n",
              "      <td>99.000000</td>\n",
              "      <td>-101.000000</td>\n",
              "    </tr>\n",
              "    <tr>\n",
              "      <th>24</th>\n",
              "      <td>0.000000</td>\n",
              "      <td>0.000000</td>\n",
              "      <td>0.000000</td>\n",
              "      <td>0.000000</td>\n",
              "    </tr>\n",
              "  </tbody>\n",
              "</table>\n",
              "</div>"
            ],
            "text/plain": [
              "         right        left          up        down\n",
              "0    93.008152   83.634366   86.660398   83.430065\n",
              "1    97.474367   79.421554   79.708487   79.726882\n",
              "2    83.462312   79.520131   73.329885   83.153209\n",
              "3     0.000000    0.000000    0.000000    0.000000\n",
              "4    84.074506   61.616296   61.636615   76.696311\n",
              "5    87.919404   73.830764   97.925158   87.561074\n",
              "6    91.138729   91.074453  103.047040   92.590326\n",
              "7    83.740041   82.671820  108.382333   87.646795\n",
              "8   103.523264   73.904881   84.996803   85.266742\n",
              "9    82.650444   82.144704   84.162539   83.476580\n",
              "10   91.763571   92.652279   78.363577   79.537678\n",
              "11  106.128400   88.935816   90.466987   87.205798\n",
              "12  112.629260   83.655266   86.106791   84.307100\n",
              "13  108.878400   89.238463   89.652292   88.552783\n",
              "14   80.221123   86.685697   86.151570   93.051081\n",
              "15   78.802077   96.102279  106.077670   79.945212\n",
              "16   93.510178   93.629118  113.433101   84.501198\n",
              "17 -101.000000   99.140842   99.312929   97.997858\n",
              "18  104.040000  103.480289   88.878400  102.803964\n",
              "19    0.000000    0.000000    0.000000    0.000000\n",
              "20   81.961484  101.678403   77.729639   79.270549\n",
              "21   79.477611   90.392594 -101.000000   80.827032\n",
              "22    0.000000    0.000000    0.000000    0.000000\n",
              "23   94.040000   98.878400   99.000000 -101.000000\n",
              "24    0.000000    0.000000    0.000000    0.000000"
            ]
          },
          "metadata": {
            "tags": []
          },
          "execution_count": 28
        }
      ]
    },
    {
      "cell_type": "markdown",
      "metadata": {
        "id": "fukI8HqrWKJa",
        "colab_type": "text"
      },
      "source": [
        "### Let's Play!"
      ]
    },
    {
      "cell_type": "code",
      "metadata": {
        "id": "s60O0UyXWBmb",
        "colab_type": "code",
        "outputId": "2cc2cd68-aaaa-4c00-f13c-aca2062c4dd5",
        "colab": {
          "base_uri": "https://localhost:8080/",
          "height": 269
        }
      },
      "source": [
        "for episode in range(2):\n",
        "  state = env.reset()\n",
        "  \n",
        "  total_reward = 0\n",
        "  \n",
        "  done = False\n",
        "  with output_grid.output_to(0, 0):\n",
        "    output_grid.clear_cell()\n",
        "    env.render()\n",
        "  time.sleep(0.25)\n",
        "  while not done:\n",
        "    action = q_agent.step(state, tradeoff, epsilon)\n",
        "    new_state, reward, done, info = q_agent.env.step(action)\n",
        "    reward -= 1\n",
        "    \n",
        "    total_reward += reward\n",
        "    with output_grid.output_to(0, 0):\n",
        "      output_grid.clear_cell()\n",
        "      env.render()\n",
        "    time.sleep(0.25)\n",
        "    state = new_state\n",
        "    \n",
        "  #print (episode, total_reward)\n",
        "    \n",
        "    \n",
        "  "
      ],
      "execution_count": 29,
      "outputs": [
        {
          "output_type": "display_data",
          "data": {
            "application/javascript": [
              "window[\"6acc027a-8b30-11e9-9832-0242ac1c0002\"] = google.colab.output.getActiveOutputArea();\n",
              "//# sourceURL=js_e7f91b2bbc"
            ],
            "text/plain": [
              "<IPython.core.display.Javascript object>"
            ]
          },
          "metadata": {
            "tags": [
              "id2-0-0",
              "outputarea_id2"
            ]
          }
        },
        {
          "output_type": "display_data",
          "data": {
            "application/javascript": [
              "window[\"6accef78-8b30-11e9-9832-0242ac1c0002\"] = document.querySelector(\"#id2-0-0\");\n",
              "//# sourceURL=js_ae589a5425"
            ],
            "text/plain": [
              "<IPython.core.display.Javascript object>"
            ]
          },
          "metadata": {
            "tags": [
              "id2-0-0",
              "outputarea_id2"
            ]
          }
        },
        {
          "output_type": "display_data",
          "data": {
            "application/javascript": [
              "window[\"6acd4cde-8b30-11e9-9832-0242ac1c0002\"] = google.colab.output.setActiveOutputArea(window[\"6accef78-8b30-11e9-9832-0242ac1c0002\"]);\n",
              "//# sourceURL=js_938b2788fd"
            ],
            "text/plain": [
              "<IPython.core.display.Javascript object>"
            ]
          },
          "metadata": {
            "tags": [
              "id2-0-0",
              "outputarea_id2"
            ]
          }
        },
        {
          "output_type": "display_data",
          "data": {
            "application/javascript": [
              "window[\"6b2ee6ba-8b30-11e9-9832-0242ac1c0002\"] = google.colab.output.setActiveOutputArea(window[\"6acc027a-8b30-11e9-9832-0242ac1c0002\"]);\n",
              "//# sourceURL=js_28f4d73c25"
            ],
            "text/plain": [
              "<IPython.core.display.Javascript object>"
            ]
          },
          "metadata": {
            "tags": [
              "id2-0-0",
              "outputarea_id2"
            ]
          }
        },
        {
          "output_type": "display_data",
          "data": {
            "application/javascript": [
              "window[\"6b55f1ba-8b30-11e9-9832-0242ac1c0002\"] = google.colab.output.getActiveOutputArea();\n",
              "//# sourceURL=js_b09a7d0e59"
            ],
            "text/plain": [
              "<IPython.core.display.Javascript object>"
            ]
          },
          "metadata": {
            "tags": [
              "id2-0-0",
              "outputarea_id2"
            ]
          }
        },
        {
          "output_type": "display_data",
          "data": {
            "application/javascript": [
              "window[\"6b563f4e-8b30-11e9-9832-0242ac1c0002\"] = document.querySelector(\"#id2-0-0\");\n",
              "//# sourceURL=js_72a63fd6a7"
            ],
            "text/plain": [
              "<IPython.core.display.Javascript object>"
            ]
          },
          "metadata": {
            "tags": [
              "id2-0-0",
              "outputarea_id2"
            ]
          }
        },
        {
          "output_type": "display_data",
          "data": {
            "application/javascript": [
              "window[\"6b566f14-8b30-11e9-9832-0242ac1c0002\"] = google.colab.output.setActiveOutputArea(window[\"6b563f4e-8b30-11e9-9832-0242ac1c0002\"]);\n",
              "//# sourceURL=js_a1ebb3135d"
            ],
            "text/plain": [
              "<IPython.core.display.Javascript object>"
            ]
          },
          "metadata": {
            "tags": [
              "id2-0-0",
              "outputarea_id2"
            ]
          }
        },
        {
          "output_type": "display_data",
          "data": {
            "application/javascript": [
              "window[\"6bbcbf62-8b30-11e9-9832-0242ac1c0002\"] = google.colab.output.setActiveOutputArea(window[\"6b55f1ba-8b30-11e9-9832-0242ac1c0002\"]);\n",
              "//# sourceURL=js_fb3aa306cc"
            ],
            "text/plain": [
              "<IPython.core.display.Javascript object>"
            ]
          },
          "metadata": {
            "tags": [
              "id2-0-0",
              "outputarea_id2"
            ]
          }
        },
        {
          "output_type": "display_data",
          "data": {
            "application/javascript": [
              "window[\"6be5946e-8b30-11e9-9832-0242ac1c0002\"] = google.colab.output.getActiveOutputArea();\n",
              "//# sourceURL=js_25e79f3872"
            ],
            "text/plain": [
              "<IPython.core.display.Javascript object>"
            ]
          },
          "metadata": {
            "tags": [
              "id2-0-0",
              "outputarea_id2"
            ]
          }
        },
        {
          "output_type": "display_data",
          "data": {
            "application/javascript": [
              "window[\"6be5edb0-8b30-11e9-9832-0242ac1c0002\"] = document.querySelector(\"#id2-0-0\");\n",
              "//# sourceURL=js_1a2bafc55f"
            ],
            "text/plain": [
              "<IPython.core.display.Javascript object>"
            ]
          },
          "metadata": {
            "tags": [
              "id2-0-0",
              "outputarea_id2"
            ]
          }
        },
        {
          "output_type": "display_data",
          "data": {
            "application/javascript": [
              "window[\"6be62c30-8b30-11e9-9832-0242ac1c0002\"] = google.colab.output.setActiveOutputArea(window[\"6be5edb0-8b30-11e9-9832-0242ac1c0002\"]);\n",
              "//# sourceURL=js_1a18c50496"
            ],
            "text/plain": [
              "<IPython.core.display.Javascript object>"
            ]
          },
          "metadata": {
            "tags": [
              "id2-0-0",
              "outputarea_id2"
            ]
          }
        },
        {
          "output_type": "display_data",
          "data": {
            "application/javascript": [
              "window[\"6c458b08-8b30-11e9-9832-0242ac1c0002\"] = google.colab.output.setActiveOutputArea(window[\"6be5946e-8b30-11e9-9832-0242ac1c0002\"]);\n",
              "//# sourceURL=js_78a301cb5a"
            ],
            "text/plain": [
              "<IPython.core.display.Javascript object>"
            ]
          },
          "metadata": {
            "tags": [
              "id2-0-0",
              "outputarea_id2"
            ]
          }
        },
        {
          "output_type": "display_data",
          "data": {
            "application/javascript": [
              "window[\"6c6df5ca-8b30-11e9-9832-0242ac1c0002\"] = google.colab.output.getActiveOutputArea();\n",
              "//# sourceURL=js_a83aa06b85"
            ],
            "text/plain": [
              "<IPython.core.display.Javascript object>"
            ]
          },
          "metadata": {
            "tags": [
              "id2-0-0",
              "outputarea_id2"
            ]
          }
        },
        {
          "output_type": "display_data",
          "data": {
            "application/javascript": [
              "window[\"6c6e7ec8-8b30-11e9-9832-0242ac1c0002\"] = document.querySelector(\"#id2-0-0\");\n",
              "//# sourceURL=js_a7b0efe61e"
            ],
            "text/plain": [
              "<IPython.core.display.Javascript object>"
            ]
          },
          "metadata": {
            "tags": [
              "id2-0-0",
              "outputarea_id2"
            ]
          }
        },
        {
          "output_type": "display_data",
          "data": {
            "application/javascript": [
              "window[\"6c6f04ba-8b30-11e9-9832-0242ac1c0002\"] = google.colab.output.setActiveOutputArea(window[\"6c6e7ec8-8b30-11e9-9832-0242ac1c0002\"]);\n",
              "//# sourceURL=js_0265770c89"
            ],
            "text/plain": [
              "<IPython.core.display.Javascript object>"
            ]
          },
          "metadata": {
            "tags": [
              "id2-0-0",
              "outputarea_id2"
            ]
          }
        },
        {
          "output_type": "display_data",
          "data": {
            "application/javascript": [
              "window[\"6cd9575c-8b30-11e9-9832-0242ac1c0002\"] = google.colab.output.setActiveOutputArea(window[\"6c6df5ca-8b30-11e9-9832-0242ac1c0002\"]);\n",
              "//# sourceURL=js_96735e7c33"
            ],
            "text/plain": [
              "<IPython.core.display.Javascript object>"
            ]
          },
          "metadata": {
            "tags": [
              "id2-0-0",
              "outputarea_id2"
            ]
          }
        },
        {
          "output_type": "display_data",
          "data": {
            "application/javascript": [
              "window[\"6d03179a-8b30-11e9-9832-0242ac1c0002\"] = google.colab.output.getActiveOutputArea();\n",
              "//# sourceURL=js_3696678228"
            ],
            "text/plain": [
              "<IPython.core.display.Javascript object>"
            ]
          },
          "metadata": {
            "tags": [
              "id2-0-0",
              "outputarea_id2"
            ]
          }
        },
        {
          "output_type": "display_data",
          "data": {
            "application/javascript": [
              "window[\"6d039dc8-8b30-11e9-9832-0242ac1c0002\"] = document.querySelector(\"#id2-0-0\");\n",
              "//# sourceURL=js_3612674407"
            ],
            "text/plain": [
              "<IPython.core.display.Javascript object>"
            ]
          },
          "metadata": {
            "tags": [
              "id2-0-0",
              "outputarea_id2"
            ]
          }
        },
        {
          "output_type": "display_data",
          "data": {
            "application/javascript": [
              "window[\"6d040fba-8b30-11e9-9832-0242ac1c0002\"] = google.colab.output.setActiveOutputArea(window[\"6d039dc8-8b30-11e9-9832-0242ac1c0002\"]);\n",
              "//# sourceURL=js_9240e1ad76"
            ],
            "text/plain": [
              "<IPython.core.display.Javascript object>"
            ]
          },
          "metadata": {
            "tags": [
              "id2-0-0",
              "outputarea_id2"
            ]
          }
        },
        {
          "output_type": "display_data",
          "data": {
            "application/javascript": [
              "window[\"6d64c1a2-8b30-11e9-9832-0242ac1c0002\"] = google.colab.output.setActiveOutputArea(window[\"6d03179a-8b30-11e9-9832-0242ac1c0002\"]);\n",
              "//# sourceURL=js_cee02f8294"
            ],
            "text/plain": [
              "<IPython.core.display.Javascript object>"
            ]
          },
          "metadata": {
            "tags": [
              "id2-0-0",
              "outputarea_id2"
            ]
          }
        },
        {
          "output_type": "display_data",
          "data": {
            "application/javascript": [
              "window[\"6d8c3b24-8b30-11e9-9832-0242ac1c0002\"] = google.colab.output.getActiveOutputArea();\n",
              "//# sourceURL=js_7c7a0771cf"
            ],
            "text/plain": [
              "<IPython.core.display.Javascript object>"
            ]
          },
          "metadata": {
            "tags": [
              "id2-0-0",
              "outputarea_id2"
            ]
          }
        },
        {
          "output_type": "display_data",
          "data": {
            "application/javascript": [
              "window[\"6d8c795e-8b30-11e9-9832-0242ac1c0002\"] = document.querySelector(\"#id2-0-0\");\n",
              "//# sourceURL=js_3c12a21269"
            ],
            "text/plain": [
              "<IPython.core.display.Javascript object>"
            ]
          },
          "metadata": {
            "tags": [
              "id2-0-0",
              "outputarea_id2"
            ]
          }
        },
        {
          "output_type": "display_data",
          "data": {
            "application/javascript": [
              "window[\"6d8ce0ce-8b30-11e9-9832-0242ac1c0002\"] = google.colab.output.setActiveOutputArea(window[\"6d8c795e-8b30-11e9-9832-0242ac1c0002\"]);\n",
              "//# sourceURL=js_a0e597a622"
            ],
            "text/plain": [
              "<IPython.core.display.Javascript object>"
            ]
          },
          "metadata": {
            "tags": [
              "id2-0-0",
              "outputarea_id2"
            ]
          }
        },
        {
          "output_type": "display_data",
          "data": {
            "application/javascript": [
              "window[\"6deebdb2-8b30-11e9-9832-0242ac1c0002\"] = google.colab.output.setActiveOutputArea(window[\"6d8c3b24-8b30-11e9-9832-0242ac1c0002\"]);\n",
              "//# sourceURL=js_c7da1e8b52"
            ],
            "text/plain": [
              "<IPython.core.display.Javascript object>"
            ]
          },
          "metadata": {
            "tags": [
              "id2-0-0",
              "outputarea_id2"
            ]
          }
        },
        {
          "output_type": "display_data",
          "data": {
            "application/javascript": [
              "window[\"6e16a444-8b30-11e9-9832-0242ac1c0002\"] = google.colab.output.getActiveOutputArea();\n",
              "//# sourceURL=js_512fcdde84"
            ],
            "text/plain": [
              "<IPython.core.display.Javascript object>"
            ]
          },
          "metadata": {
            "tags": [
              "id2-0-0",
              "outputarea_id2"
            ]
          }
        },
        {
          "output_type": "display_data",
          "data": {
            "application/javascript": [
              "window[\"6e174a16-8b30-11e9-9832-0242ac1c0002\"] = document.querySelector(\"#id2-0-0\");\n",
              "//# sourceURL=js_3ae9a81e2c"
            ],
            "text/plain": [
              "<IPython.core.display.Javascript object>"
            ]
          },
          "metadata": {
            "tags": [
              "id2-0-0",
              "outputarea_id2"
            ]
          }
        },
        {
          "output_type": "display_data",
          "data": {
            "application/javascript": [
              "window[\"6e17c8c4-8b30-11e9-9832-0242ac1c0002\"] = google.colab.output.setActiveOutputArea(window[\"6e174a16-8b30-11e9-9832-0242ac1c0002\"]);\n",
              "//# sourceURL=js_1944feb947"
            ],
            "text/plain": [
              "<IPython.core.display.Javascript object>"
            ]
          },
          "metadata": {
            "tags": [
              "id2-0-0",
              "outputarea_id2"
            ]
          }
        },
        {
          "output_type": "display_data",
          "data": {
            "application/javascript": [
              "window[\"6e69e870-8b30-11e9-9832-0242ac1c0002\"] = google.colab.output.setActiveOutputArea(window[\"6e16a444-8b30-11e9-9832-0242ac1c0002\"]);\n",
              "//# sourceURL=js_3faae7404d"
            ],
            "text/plain": [
              "<IPython.core.display.Javascript object>"
            ]
          },
          "metadata": {
            "tags": [
              "id2-0-0",
              "outputarea_id2"
            ]
          }
        },
        {
          "output_type": "display_data",
          "data": {
            "application/javascript": [
              "window[\"6e92c4de-8b30-11e9-9832-0242ac1c0002\"] = google.colab.output.getActiveOutputArea();\n",
              "//# sourceURL=js_3bcbf2dd77"
            ],
            "text/plain": [
              "<IPython.core.display.Javascript object>"
            ]
          },
          "metadata": {
            "tags": [
              "id2-0-0",
              "outputarea_id2"
            ]
          }
        },
        {
          "output_type": "display_data",
          "data": {
            "application/javascript": [
              "window[\"6e9349e0-8b30-11e9-9832-0242ac1c0002\"] = document.querySelector(\"#id2-0-0\");\n",
              "//# sourceURL=js_ead581c69b"
            ],
            "text/plain": [
              "<IPython.core.display.Javascript object>"
            ]
          },
          "metadata": {
            "tags": [
              "id2-0-0",
              "outputarea_id2"
            ]
          }
        },
        {
          "output_type": "display_data",
          "data": {
            "application/javascript": [
              "window[\"6e938b58-8b30-11e9-9832-0242ac1c0002\"] = google.colab.output.setActiveOutputArea(window[\"6e9349e0-8b30-11e9-9832-0242ac1c0002\"]);\n",
              "//# sourceURL=js_55a6a6f04e"
            ],
            "text/plain": [
              "<IPython.core.display.Javascript object>"
            ]
          },
          "metadata": {
            "tags": [
              "id2-0-0",
              "outputarea_id2"
            ]
          }
        },
        {
          "output_type": "display_data",
          "data": {
            "application/javascript": [
              "window[\"6eeb70ca-8b30-11e9-9832-0242ac1c0002\"] = google.colab.output.setActiveOutputArea(window[\"6e92c4de-8b30-11e9-9832-0242ac1c0002\"]);\n",
              "//# sourceURL=js_fa96b6f337"
            ],
            "text/plain": [
              "<IPython.core.display.Javascript object>"
            ]
          },
          "metadata": {
            "tags": [
              "id2-0-0",
              "outputarea_id2"
            ]
          }
        },
        {
          "output_type": "display_data",
          "data": {
            "application/javascript": [
              "window[\"6f152f46-8b30-11e9-9832-0242ac1c0002\"] = google.colab.output.getActiveOutputArea();\n",
              "//# sourceURL=js_7a3d7822ef"
            ],
            "text/plain": [
              "<IPython.core.display.Javascript object>"
            ]
          },
          "metadata": {
            "tags": [
              "id2-0-0",
              "outputarea_id2"
            ]
          }
        },
        {
          "output_type": "display_data",
          "data": {
            "application/javascript": [
              "window[\"6f15e4f4-8b30-11e9-9832-0242ac1c0002\"] = document.querySelector(\"#id2-0-0\");\n",
              "//# sourceURL=js_aba76977ff"
            ],
            "text/plain": [
              "<IPython.core.display.Javascript object>"
            ]
          },
          "metadata": {
            "tags": [
              "id2-0-0",
              "outputarea_id2"
            ]
          }
        },
        {
          "output_type": "display_data",
          "data": {
            "application/javascript": [
              "window[\"6f1641c4-8b30-11e9-9832-0242ac1c0002\"] = google.colab.output.setActiveOutputArea(window[\"6f15e4f4-8b30-11e9-9832-0242ac1c0002\"]);\n",
              "//# sourceURL=js_d366d80ab1"
            ],
            "text/plain": [
              "<IPython.core.display.Javascript object>"
            ]
          },
          "metadata": {
            "tags": [
              "id2-0-0",
              "outputarea_id2"
            ]
          }
        },
        {
          "output_type": "display_data",
          "data": {
            "application/javascript": [
              "window[\"6f5eec30-8b30-11e9-9832-0242ac1c0002\"] = google.colab.output.setActiveOutputArea(window[\"6f152f46-8b30-11e9-9832-0242ac1c0002\"]);\n",
              "//# sourceURL=js_dc18b79529"
            ],
            "text/plain": [
              "<IPython.core.display.Javascript object>"
            ]
          },
          "metadata": {
            "tags": [
              "id2-0-0",
              "outputarea_id2"
            ]
          }
        },
        {
          "output_type": "display_data",
          "data": {
            "application/javascript": [
              "window[\"6f873050-8b30-11e9-9832-0242ac1c0002\"] = google.colab.output.getActiveOutputArea();\n",
              "//# sourceURL=js_7ae3636487"
            ],
            "text/plain": [
              "<IPython.core.display.Javascript object>"
            ]
          },
          "metadata": {
            "tags": [
              "id2-0-0",
              "outputarea_id2"
            ]
          }
        },
        {
          "output_type": "display_data",
          "data": {
            "application/javascript": [
              "window[\"6f877434-8b30-11e9-9832-0242ac1c0002\"] = document.querySelector(\"#id2-0-0\");\n",
              "//# sourceURL=js_ecac167193"
            ],
            "text/plain": [
              "<IPython.core.display.Javascript object>"
            ]
          },
          "metadata": {
            "tags": [
              "id2-0-0",
              "outputarea_id2"
            ]
          }
        },
        {
          "output_type": "display_data",
          "data": {
            "application/javascript": [
              "window[\"6f87ca1a-8b30-11e9-9832-0242ac1c0002\"] = google.colab.output.setActiveOutputArea(window[\"6f877434-8b30-11e9-9832-0242ac1c0002\"]);\n",
              "//# sourceURL=js_77b9e3c057"
            ],
            "text/plain": [
              "<IPython.core.display.Javascript object>"
            ]
          },
          "metadata": {
            "tags": [
              "id2-0-0",
              "outputarea_id2"
            ]
          }
        },
        {
          "output_type": "display_data",
          "data": {
            "application/javascript": [
              "window[\"6ff1d0d6-8b30-11e9-9832-0242ac1c0002\"] = google.colab.output.setActiveOutputArea(window[\"6f873050-8b30-11e9-9832-0242ac1c0002\"]);\n",
              "//# sourceURL=js_3dbb8da8b0"
            ],
            "text/plain": [
              "<IPython.core.display.Javascript object>"
            ]
          },
          "metadata": {
            "tags": [
              "id2-0-0",
              "outputarea_id2"
            ]
          }
        },
        {
          "output_type": "display_data",
          "data": {
            "application/javascript": [
              "window[\"70193a40-8b30-11e9-9832-0242ac1c0002\"] = google.colab.output.getActiveOutputArea();\n",
              "//# sourceURL=js_6d11889297"
            ],
            "text/plain": [
              "<IPython.core.display.Javascript object>"
            ]
          },
          "metadata": {
            "tags": [
              "id2-0-0",
              "outputarea_id2"
            ]
          }
        },
        {
          "output_type": "display_data",
          "data": {
            "application/javascript": [
              "window[\"7019a020-8b30-11e9-9832-0242ac1c0002\"] = document.querySelector(\"#id2-0-0\");\n",
              "//# sourceURL=js_ff8f0421aa"
            ],
            "text/plain": [
              "<IPython.core.display.Javascript object>"
            ]
          },
          "metadata": {
            "tags": [
              "id2-0-0",
              "outputarea_id2"
            ]
          }
        },
        {
          "output_type": "display_data",
          "data": {
            "application/javascript": [
              "window[\"7019f8d6-8b30-11e9-9832-0242ac1c0002\"] = google.colab.output.setActiveOutputArea(window[\"7019a020-8b30-11e9-9832-0242ac1c0002\"]);\n",
              "//# sourceURL=js_369233cd33"
            ],
            "text/plain": [
              "<IPython.core.display.Javascript object>"
            ]
          },
          "metadata": {
            "tags": [
              "id2-0-0",
              "outputarea_id2"
            ]
          }
        },
        {
          "output_type": "display_data",
          "data": {
            "application/javascript": [
              "window[\"7085392a-8b30-11e9-9832-0242ac1c0002\"] = google.colab.output.setActiveOutputArea(window[\"70193a40-8b30-11e9-9832-0242ac1c0002\"]);\n",
              "//# sourceURL=js_4155003b5e"
            ],
            "text/plain": [
              "<IPython.core.display.Javascript object>"
            ]
          },
          "metadata": {
            "tags": [
              "id2-0-0",
              "outputarea_id2"
            ]
          }
        },
        {
          "output_type": "display_data",
          "data": {
            "application/javascript": [
              "window[\"70aca2f8-8b30-11e9-9832-0242ac1c0002\"] = google.colab.output.getActiveOutputArea();\n",
              "//# sourceURL=js_d1c7478b5c"
            ],
            "text/plain": [
              "<IPython.core.display.Javascript object>"
            ]
          },
          "metadata": {
            "tags": [
              "id2-0-0",
              "outputarea_id2"
            ]
          }
        },
        {
          "output_type": "display_data",
          "data": {
            "application/javascript": [
              "window[\"70ad0afe-8b30-11e9-9832-0242ac1c0002\"] = document.querySelector(\"#id2-0-0\");\n",
              "//# sourceURL=js_b3a2e6f7af"
            ],
            "text/plain": [
              "<IPython.core.display.Javascript object>"
            ]
          },
          "metadata": {
            "tags": [
              "id2-0-0",
              "outputarea_id2"
            ]
          }
        },
        {
          "output_type": "display_data",
          "data": {
            "application/javascript": [
              "window[\"70ad6b2a-8b30-11e9-9832-0242ac1c0002\"] = google.colab.output.setActiveOutputArea(window[\"70ad0afe-8b30-11e9-9832-0242ac1c0002\"]);\n",
              "//# sourceURL=js_10a1937ded"
            ],
            "text/plain": [
              "<IPython.core.display.Javascript object>"
            ]
          },
          "metadata": {
            "tags": [
              "id2-0-0",
              "outputarea_id2"
            ]
          }
        },
        {
          "output_type": "display_data",
          "data": {
            "application/javascript": [
              "window[\"711dd388-8b30-11e9-9832-0242ac1c0002\"] = google.colab.output.setActiveOutputArea(window[\"70aca2f8-8b30-11e9-9832-0242ac1c0002\"]);\n",
              "//# sourceURL=js_1e7428883b"
            ],
            "text/plain": [
              "<IPython.core.display.Javascript object>"
            ]
          },
          "metadata": {
            "tags": [
              "id2-0-0",
              "outputarea_id2"
            ]
          }
        },
        {
          "output_type": "display_data",
          "data": {
            "application/javascript": [
              "window[\"71455fd4-8b30-11e9-9832-0242ac1c0002\"] = google.colab.output.getActiveOutputArea();\n",
              "//# sourceURL=js_02aa6193ec"
            ],
            "text/plain": [
              "<IPython.core.display.Javascript object>"
            ]
          },
          "metadata": {
            "tags": [
              "id2-0-0",
              "outputarea_id2"
            ]
          }
        },
        {
          "output_type": "display_data",
          "data": {
            "application/javascript": [
              "window[\"7145a3ea-8b30-11e9-9832-0242ac1c0002\"] = document.querySelector(\"#id2-0-0\");\n",
              "//# sourceURL=js_9739adaec2"
            ],
            "text/plain": [
              "<IPython.core.display.Javascript object>"
            ]
          },
          "metadata": {
            "tags": [
              "id2-0-0",
              "outputarea_id2"
            ]
          }
        },
        {
          "output_type": "display_data",
          "data": {
            "application/javascript": [
              "window[\"71461410-8b30-11e9-9832-0242ac1c0002\"] = google.colab.output.setActiveOutputArea(window[\"7145a3ea-8b30-11e9-9832-0242ac1c0002\"]);\n",
              "//# sourceURL=js_a7aa929ca1"
            ],
            "text/plain": [
              "<IPython.core.display.Javascript object>"
            ]
          },
          "metadata": {
            "tags": [
              "id2-0-0",
              "outputarea_id2"
            ]
          }
        },
        {
          "output_type": "display_data",
          "data": {
            "application/javascript": [
              "window[\"71b284b0-8b30-11e9-9832-0242ac1c0002\"] = google.colab.output.setActiveOutputArea(window[\"71455fd4-8b30-11e9-9832-0242ac1c0002\"]);\n",
              "//# sourceURL=js_882df15ce4"
            ],
            "text/plain": [
              "<IPython.core.display.Javascript object>"
            ]
          },
          "metadata": {
            "tags": [
              "id2-0-0",
              "outputarea_id2"
            ]
          }
        },
        {
          "output_type": "display_data",
          "data": {
            "application/javascript": [
              "window[\"71da7a2e-8b30-11e9-9832-0242ac1c0002\"] = google.colab.output.getActiveOutputArea();\n",
              "//# sourceURL=js_895d02bea8"
            ],
            "text/plain": [
              "<IPython.core.display.Javascript object>"
            ]
          },
          "metadata": {
            "tags": [
              "id2-0-0",
              "outputarea_id2"
            ]
          }
        },
        {
          "output_type": "display_data",
          "data": {
            "application/javascript": [
              "window[\"71dae69e-8b30-11e9-9832-0242ac1c0002\"] = document.querySelector(\"#id2-0-0\");\n",
              "//# sourceURL=js_12eafcd4e5"
            ],
            "text/plain": [
              "<IPython.core.display.Javascript object>"
            ]
          },
          "metadata": {
            "tags": [
              "id2-0-0",
              "outputarea_id2"
            ]
          }
        },
        {
          "output_type": "display_data",
          "data": {
            "application/javascript": [
              "window[\"71db7276-8b30-11e9-9832-0242ac1c0002\"] = google.colab.output.setActiveOutputArea(window[\"71dae69e-8b30-11e9-9832-0242ac1c0002\"]);\n",
              "//# sourceURL=js_f9b72d702c"
            ],
            "text/plain": [
              "<IPython.core.display.Javascript object>"
            ]
          },
          "metadata": {
            "tags": [
              "id2-0-0",
              "outputarea_id2"
            ]
          }
        },
        {
          "output_type": "display_data",
          "data": {
            "application/javascript": [
              "window[\"723a64e8-8b30-11e9-9832-0242ac1c0002\"] = google.colab.output.setActiveOutputArea(window[\"71da7a2e-8b30-11e9-9832-0242ac1c0002\"]);\n",
              "//# sourceURL=js_c38a485f47"
            ],
            "text/plain": [
              "<IPython.core.display.Javascript object>"
            ]
          },
          "metadata": {
            "tags": [
              "id2-0-0",
              "outputarea_id2"
            ]
          }
        },
        {
          "output_type": "display_data",
          "data": {
            "application/javascript": [
              "window[\"7261fe4a-8b30-11e9-9832-0242ac1c0002\"] = google.colab.output.getActiveOutputArea();\n",
              "//# sourceURL=js_6f7bae0d80"
            ],
            "text/plain": [
              "<IPython.core.display.Javascript object>"
            ]
          },
          "metadata": {
            "tags": [
              "id2-0-0",
              "outputarea_id2"
            ]
          }
        },
        {
          "output_type": "display_data",
          "data": {
            "application/javascript": [
              "window[\"726242ce-8b30-11e9-9832-0242ac1c0002\"] = document.querySelector(\"#id2-0-0\");\n",
              "//# sourceURL=js_034dfe9594"
            ],
            "text/plain": [
              "<IPython.core.display.Javascript object>"
            ]
          },
          "metadata": {
            "tags": [
              "id2-0-0",
              "outputarea_id2"
            ]
          }
        },
        {
          "output_type": "display_data",
          "data": {
            "application/javascript": [
              "window[\"7262ae76-8b30-11e9-9832-0242ac1c0002\"] = google.colab.output.setActiveOutputArea(window[\"726242ce-8b30-11e9-9832-0242ac1c0002\"]);\n",
              "//# sourceURL=js_2abd138c63"
            ],
            "text/plain": [
              "<IPython.core.display.Javascript object>"
            ]
          },
          "metadata": {
            "tags": [
              "id2-0-0",
              "outputarea_id2"
            ]
          }
        },
        {
          "output_type": "display_data",
          "data": {
            "application/javascript": [
              "window[\"72c20fec-8b30-11e9-9832-0242ac1c0002\"] = google.colab.output.setActiveOutputArea(window[\"7261fe4a-8b30-11e9-9832-0242ac1c0002\"]);\n",
              "//# sourceURL=js_f7bba4fc1c"
            ],
            "text/plain": [
              "<IPython.core.display.Javascript object>"
            ]
          },
          "metadata": {
            "tags": [
              "id2-0-0",
              "outputarea_id2"
            ]
          }
        },
        {
          "output_type": "display_data",
          "data": {
            "application/javascript": [
              "window[\"72e97c58-8b30-11e9-9832-0242ac1c0002\"] = google.colab.output.getActiveOutputArea();\n",
              "//# sourceURL=js_ce1de1540b"
            ],
            "text/plain": [
              "<IPython.core.display.Javascript object>"
            ]
          },
          "metadata": {
            "tags": [
              "id2-0-0",
              "outputarea_id2"
            ]
          }
        },
        {
          "output_type": "display_data",
          "data": {
            "application/javascript": [
              "window[\"72e9bd30-8b30-11e9-9832-0242ac1c0002\"] = document.querySelector(\"#id2-0-0\");\n",
              "//# sourceURL=js_e21a54a43b"
            ],
            "text/plain": [
              "<IPython.core.display.Javascript object>"
            ]
          },
          "metadata": {
            "tags": [
              "id2-0-0",
              "outputarea_id2"
            ]
          }
        },
        {
          "output_type": "display_data",
          "data": {
            "application/javascript": [
              "window[\"72ea2018-8b30-11e9-9832-0242ac1c0002\"] = google.colab.output.setActiveOutputArea(window[\"72e9bd30-8b30-11e9-9832-0242ac1c0002\"]);\n",
              "//# sourceURL=js_f1dbf45bfd"
            ],
            "text/plain": [
              "<IPython.core.display.Javascript object>"
            ]
          },
          "metadata": {
            "tags": [
              "id2-0-0",
              "outputarea_id2"
            ]
          }
        },
        {
          "output_type": "display_data",
          "data": {
            "application/javascript": [
              "window[\"7341ef1e-8b30-11e9-9832-0242ac1c0002\"] = google.colab.output.setActiveOutputArea(window[\"72e97c58-8b30-11e9-9832-0242ac1c0002\"]);\n",
              "//# sourceURL=js_b8d3237580"
            ],
            "text/plain": [
              "<IPython.core.display.Javascript object>"
            ]
          },
          "metadata": {
            "tags": [
              "id2-0-0",
              "outputarea_id2"
            ]
          }
        },
        {
          "output_type": "display_data",
          "data": {
            "application/javascript": [
              "window[\"736a5b52-8b30-11e9-9832-0242ac1c0002\"] = google.colab.output.getActiveOutputArea();\n",
              "//# sourceURL=js_f90f778636"
            ],
            "text/plain": [
              "<IPython.core.display.Javascript object>"
            ]
          },
          "metadata": {
            "tags": [
              "id2-0-0",
              "outputarea_id2"
            ]
          }
        },
        {
          "output_type": "display_data",
          "data": {
            "application/javascript": [
              "window[\"736aaf26-8b30-11e9-9832-0242ac1c0002\"] = document.querySelector(\"#id2-0-0\");\n",
              "//# sourceURL=js_cb32522568"
            ],
            "text/plain": [
              "<IPython.core.display.Javascript object>"
            ]
          },
          "metadata": {
            "tags": [
              "id2-0-0",
              "outputarea_id2"
            ]
          }
        },
        {
          "output_type": "display_data",
          "data": {
            "application/javascript": [
              "window[\"736b2578-8b30-11e9-9832-0242ac1c0002\"] = google.colab.output.setActiveOutputArea(window[\"736aaf26-8b30-11e9-9832-0242ac1c0002\"]);\n",
              "//# sourceURL=js_ba9e848872"
            ],
            "text/plain": [
              "<IPython.core.display.Javascript object>"
            ]
          },
          "metadata": {
            "tags": [
              "id2-0-0",
              "outputarea_id2"
            ]
          }
        },
        {
          "output_type": "display_data",
          "data": {
            "application/javascript": [
              "window[\"73b23e2c-8b30-11e9-9832-0242ac1c0002\"] = google.colab.output.setActiveOutputArea(window[\"736a5b52-8b30-11e9-9832-0242ac1c0002\"]);\n",
              "//# sourceURL=js_0585e0ba75"
            ],
            "text/plain": [
              "<IPython.core.display.Javascript object>"
            ]
          },
          "metadata": {
            "tags": [
              "id2-0-0",
              "outputarea_id2"
            ]
          }
        },
        {
          "output_type": "display_data",
          "data": {
            "application/javascript": [
              "window[\"73d9e076-8b30-11e9-9832-0242ac1c0002\"] = google.colab.output.getActiveOutputArea();\n",
              "//# sourceURL=js_1097dafa27"
            ],
            "text/plain": [
              "<IPython.core.display.Javascript object>"
            ]
          },
          "metadata": {
            "tags": [
              "id2-0-0",
              "outputarea_id2"
            ]
          }
        },
        {
          "output_type": "display_data",
          "data": {
            "application/javascript": [
              "window[\"73da2180-8b30-11e9-9832-0242ac1c0002\"] = document.querySelector(\"#id2-0-0\");\n",
              "//# sourceURL=js_a5389fde67"
            ],
            "text/plain": [
              "<IPython.core.display.Javascript object>"
            ]
          },
          "metadata": {
            "tags": [
              "id2-0-0",
              "outputarea_id2"
            ]
          }
        },
        {
          "output_type": "display_data",
          "data": {
            "application/javascript": [
              "window[\"73da70f4-8b30-11e9-9832-0242ac1c0002\"] = google.colab.output.setActiveOutputArea(window[\"73da2180-8b30-11e9-9832-0242ac1c0002\"]);\n",
              "//# sourceURL=js_b06f084c38"
            ],
            "text/plain": [
              "<IPython.core.display.Javascript object>"
            ]
          },
          "metadata": {
            "tags": [
              "id2-0-0",
              "outputarea_id2"
            ]
          }
        },
        {
          "output_type": "display_data",
          "data": {
            "image/png": "[encoded data removed]",
            "text/plain": [
              "<Figure size 432x288 with 1 Axes>"
            ]
          },
          "metadata": {
            "tags": [
              "id2-0-0",
              "outputarea_id2",
              "user_output"
            ]
          }
        },
        {
          "output_type": "display_data",
          "data": {
            "application/javascript": [
              "window[\"7423648a-8b30-11e9-9832-0242ac1c0002\"] = google.colab.output.setActiveOutputArea(window[\"73d9e076-8b30-11e9-9832-0242ac1c0002\"]);\n",
              "//# sourceURL=js_7c5dc62fa0"
            ],
            "text/plain": [
              "<IPython.core.display.Javascript object>"
            ]
          },
          "metadata": {
            "tags": [
              "id2-0-0",
              "outputarea_id2"
            ]
          }
        }
      ]
    },
    {
      "cell_type": "markdown",
      "metadata": {
        "id": "1xoo3rgPZFz8",
        "colab_type": "text"
      },
      "source": [
        "##Stochastic Environment"
      ]
    },
    {
      "cell_type": "code",
      "metadata": {
        "id": "6BkfFSRLzYID",
        "colab_type": "code",
        "colab": {}
      },
      "source": [
        "env = GridEnvironment(stochastic=0.04)\n",
        "env.reset()\n",
        "\n",
        "q_agent = Q_Agent(env, learning_rate=0.95, gamma=0.96)\n",
        "\n",
        "total_episodes = 3500\n",
        "\n",
        "# Exploration parameters\n",
        "epsilon = 1.0                 # Exploration rate\n",
        "max_epsilon = 1.0             # Exploration probability at start\n",
        "min_epsilon = 0.01            # Minimum exploration probability \n",
        "decay_rate = 0.005             # Exponential decay rate for exploration prob"
      ],
      "execution_count": 0,
      "outputs": []
    },
    {
      "cell_type": "code",
      "metadata": {
        "id": "U7wC7Qx_ZOph",
        "colab_type": "code",
        "outputId": "65ca8e55-5a94-47d6-8207-1c22e8dcf885",
        "colab": {
          "base_uri": "https://localhost:8080/",
          "height": 142
        }
      },
      "source": [
        "rewards = []\n",
        "epsilons = []\n",
        "\n",
        "for episode in range(total_episodes):\n",
        "  state = env.reset()\n",
        "  \n",
        "  total_rewards = 0\n",
        "  \n",
        "  done = False\n",
        "  if episode % 500 == 0:\n",
        "    print ('Episode No:', episode)\n",
        "  while not done:\n",
        "    tradeoff = random.uniform(0, 1)\n",
        "    action = q_agent.step(state, tradeoff, epsilon)\n",
        "    new_state, reward, done, info = q_agent.env.step(action)\n",
        "    \n",
        "    reward -= 1\n",
        "    \n",
        "    #similar to stochastic gradient descent\n",
        "    q_agent.update(state, action, new_state, reward)\n",
        "    \n",
        "    total_rewards += reward\n",
        "    \n",
        "    state = new_state\n",
        "    #rendering mades the training very slow\n",
        "    #with output_grid.output_to(0, 0):\n",
        "    #  output_grid.clear_cell()\n",
        "    #  env.render()\n",
        "    #time.sleep(1)\n",
        "\n",
        "  epsilon = min_epsilon + (max_epsilon - min_epsilon)*np.exp(-decay_rate*episode)\n",
        "  epsilons.append(epsilon)\n",
        "  rewards.append(total_rewards)"
      ],
      "execution_count": 19,
      "outputs": [
        {
          "output_type": "stream",
          "text": [
            "Episode No: 0\n",
            "Episode No: 500\n",
            "Episode No: 1000\n",
            "Episode No: 1500\n",
            "Episode No: 2000\n",
            "Episode No: 2500\n",
            "Episode No: 3000\n"
          ],
          "name": "stdout"
        }
      ]
    },
    {
      "cell_type": "code",
      "metadata": {
        "id": "GTEvyKsrZRXw",
        "colab_type": "code",
        "outputId": "d889c6d8-3b76-4277-b20d-c2e4d0521c56",
        "colab": {
          "base_uri": "https://localhost:8080/",
          "height": 287
        }
      },
      "source": [
        "plt.plot(rewards)"
      ],
      "execution_count": 20,
      "outputs": [
        {
          "output_type": "execute_result",
          "data": {
            "text/plain": [
              "[<matplotlib.lines.Line2D at 0x7fd02b692b38>]"
            ]
          },
          "metadata": {
            "tags": []
          },
          "execution_count": 20
        },
        {
          "output_type": "display_data",
          "data": {
            "image/png": "[encoded data removed]",
            "text/plain": [
              "<Figure size 432x288 with 1 Axes>"
            ]
          },
          "metadata": {
            "tags": []
          }
        }
      ]
    },
    {
      "cell_type": "code",
      "metadata": {
        "id": "IqAMqFVXZUjP",
        "colab_type": "code",
        "outputId": "ea6eece6-db53-424e-8354-29dd2add04bc",
        "colab": {
          "base_uri": "https://localhost:8080/",
          "height": 287
        }
      },
      "source": [
        "df = pd.DataFrame(rewards, columns=['r'])\n",
        "rolling_mean = df['r'].rolling(window=25).mean()\n",
        "plt.plot(rolling_mean)"
      ],
      "execution_count": 21,
      "outputs": [
        {
          "output_type": "execute_result",
          "data": {
            "text/plain": [
              "[<matplotlib.lines.Line2D at 0x7fd02b6d49b0>]"
            ]
          },
          "metadata": {
            "tags": []
          },
          "execution_count": 21
        },
        {
          "output_type": "display_data",
          "data": {
            "image/png": "[encoded data removed]",
            "text/plain": [
              "<Figure size 432x288 with 1 Axes>"
            ]
          },
          "metadata": {
            "tags": []
          }
        }
      ]
    },
    {
      "cell_type": "code",
      "metadata": {
        "id": "67LcdoWPZaQe",
        "colab_type": "code",
        "outputId": "9a5d661c-0980-43c0-c824-160479a8c94f",
        "colab": {
          "base_uri": "https://localhost:8080/",
          "height": 834
        }
      },
      "source": [
        "q_df = pd.DataFrame(q_agent.q_table, columns=['right', 'left', 'up' ,'down'])\n",
        "q_df"
      ],
      "execution_count": 22,
      "outputs": [
        {
          "output_type": "execute_result",
          "data": {
            "text/html": [
              "<div>\n",
              "<style scoped>\n",
              "    .dataframe tbody tr th:only-of-type {\n",
              "        vertical-align: middle;\n",
              "    }\n",
              "\n",
              "    .dataframe tbody tr th {\n",
              "        vertical-align: top;\n",
              "    }\n",
              "\n",
              "    .dataframe thead th {\n",
              "        text-align: right;\n",
              "    }\n",
              "</style>\n",
              "<table border=\"1\" class=\"dataframe\">\n",
              "  <thead>\n",
              "    <tr style=\"text-align: right;\">\n",
              "      <th></th>\n",
              "      <th>right</th>\n",
              "      <th>left</th>\n",
              "      <th>up</th>\n",
              "      <th>down</th>\n",
              "    </tr>\n",
              "  </thead>\n",
              "  <tbody>\n",
              "    <tr>\n",
              "      <th>0</th>\n",
              "      <td>101.870258</td>\n",
              "      <td>95.893741</td>\n",
              "      <td>79.880060</td>\n",
              "      <td>79.290896</td>\n",
              "    </tr>\n",
              "    <tr>\n",
              "      <th>1</th>\n",
              "      <td>79.950281</td>\n",
              "      <td>79.902845</td>\n",
              "      <td>80.189560</td>\n",
              "      <td>83.408971</td>\n",
              "    </tr>\n",
              "    <tr>\n",
              "      <th>2</th>\n",
              "      <td>86.176336</td>\n",
              "      <td>83.798539</td>\n",
              "      <td>73.761127</td>\n",
              "      <td>84.247495</td>\n",
              "    </tr>\n",
              "    <tr>\n",
              "      <th>3</th>\n",
              "      <td>0.000000</td>\n",
              "      <td>0.000000</td>\n",
              "      <td>0.000000</td>\n",
              "      <td>0.000000</td>\n",
              "    </tr>\n",
              "    <tr>\n",
              "      <th>4</th>\n",
              "      <td>80.115886</td>\n",
              "      <td>82.032698</td>\n",
              "      <td>80.215058</td>\n",
              "      <td>74.979592</td>\n",
              "    </tr>\n",
              "    <tr>\n",
              "      <th>5</th>\n",
              "      <td>107.156518</td>\n",
              "      <td>79.535596</td>\n",
              "      <td>79.644170</td>\n",
              "      <td>79.831224</td>\n",
              "    </tr>\n",
              "    <tr>\n",
              "      <th>6</th>\n",
              "      <td>83.419100</td>\n",
              "      <td>82.685010</td>\n",
              "      <td>83.521278</td>\n",
              "      <td>77.533874</td>\n",
              "    </tr>\n",
              "    <tr>\n",
              "      <th>7</th>\n",
              "      <td>98.356324</td>\n",
              "      <td>80.763186</td>\n",
              "      <td>88.810936</td>\n",
              "      <td>88.263921</td>\n",
              "    </tr>\n",
              "    <tr>\n",
              "      <th>8</th>\n",
              "      <td>92.877892</td>\n",
              "      <td>88.381813</td>\n",
              "      <td>84.028956</td>\n",
              "      <td>91.644780</td>\n",
              "    </tr>\n",
              "    <tr>\n",
              "      <th>9</th>\n",
              "      <td>82.653637</td>\n",
              "      <td>80.214657</td>\n",
              "      <td>83.994237</td>\n",
              "      <td>88.481100</td>\n",
              "    </tr>\n",
              "    <tr>\n",
              "      <th>10</th>\n",
              "      <td>112.663040</td>\n",
              "      <td>100.984745</td>\n",
              "      <td>83.882818</td>\n",
              "      <td>86.974066</td>\n",
              "    </tr>\n",
              "    <tr>\n",
              "      <th>11</th>\n",
              "      <td>106.929889</td>\n",
              "      <td>82.135216</td>\n",
              "      <td>82.475897</td>\n",
              "      <td>80.615710</td>\n",
              "    </tr>\n",
              "    <tr>\n",
              "      <th>12</th>\n",
              "      <td>101.264762</td>\n",
              "      <td>92.444396</td>\n",
              "      <td>93.028723</td>\n",
              "      <td>85.761747</td>\n",
              "    </tr>\n",
              "    <tr>\n",
              "      <th>13</th>\n",
              "      <td>96.213326</td>\n",
              "      <td>89.142170</td>\n",
              "      <td>88.858406</td>\n",
              "      <td>89.040015</td>\n",
              "    </tr>\n",
              "    <tr>\n",
              "      <th>14</th>\n",
              "      <td>78.388547</td>\n",
              "      <td>82.561489</td>\n",
              "      <td>84.446005</td>\n",
              "      <td>92.178256</td>\n",
              "    </tr>\n",
              "    <tr>\n",
              "      <th>15</th>\n",
              "      <td>87.777647</td>\n",
              "      <td>88.359080</td>\n",
              "      <td>107.982333</td>\n",
              "      <td>88.614195</td>\n",
              "    </tr>\n",
              "    <tr>\n",
              "      <th>16</th>\n",
              "      <td>93.519057</td>\n",
              "      <td>82.525754</td>\n",
              "      <td>113.523264</td>\n",
              "      <td>93.302506</td>\n",
              "    </tr>\n",
              "    <tr>\n",
              "      <th>17</th>\n",
              "      <td>-101.000000</td>\n",
              "      <td>99.227867</td>\n",
              "      <td>108.878400</td>\n",
              "      <td>97.274766</td>\n",
              "    </tr>\n",
              "    <tr>\n",
              "      <th>18</th>\n",
              "      <td>104.040000</td>\n",
              "      <td>93.045897</td>\n",
              "      <td>88.878400</td>\n",
              "      <td>103.028475</td>\n",
              "    </tr>\n",
              "    <tr>\n",
              "      <th>19</th>\n",
              "      <td>0.000000</td>\n",
              "      <td>0.000000</td>\n",
              "      <td>0.000000</td>\n",
              "      <td>0.000000</td>\n",
              "    </tr>\n",
              "    <tr>\n",
              "      <th>20</th>\n",
              "      <td>81.866257</td>\n",
              "      <td>102.150709</td>\n",
              "      <td>83.990547</td>\n",
              "      <td>81.616468</td>\n",
              "    </tr>\n",
              "    <tr>\n",
              "      <th>21</th>\n",
              "      <td>84.150502</td>\n",
              "      <td>91.924277</td>\n",
              "      <td>-101.000000</td>\n",
              "      <td>85.858804</td>\n",
              "    </tr>\n",
              "    <tr>\n",
              "      <th>22</th>\n",
              "      <td>0.000000</td>\n",
              "      <td>0.000000</td>\n",
              "      <td>0.000000</td>\n",
              "      <td>0.000000</td>\n",
              "    </tr>\n",
              "    <tr>\n",
              "      <th>23</th>\n",
              "      <td>94.040000</td>\n",
              "      <td>98.878400</td>\n",
              "      <td>99.000000</td>\n",
              "      <td>-101.000000</td>\n",
              "    </tr>\n",
              "    <tr>\n",
              "      <th>24</th>\n",
              "      <td>0.000000</td>\n",
              "      <td>0.000000</td>\n",
              "      <td>0.000000</td>\n",
              "      <td>0.000000</td>\n",
              "    </tr>\n",
              "  </tbody>\n",
              "</table>\n",
              "</div>"
            ],
            "text/plain": [
              "         right        left          up        down\n",
              "0   101.870258   95.893741   79.880060   79.290896\n",
              "1    79.950281   79.902845   80.189560   83.408971\n",
              "2    86.176336   83.798539   73.761127   84.247495\n",
              "3     0.000000    0.000000    0.000000    0.000000\n",
              "4    80.115886   82.032698   80.215058   74.979592\n",
              "5   107.156518   79.535596   79.644170   79.831224\n",
              "6    83.419100   82.685010   83.521278   77.533874\n",
              "7    98.356324   80.763186   88.810936   88.263921\n",
              "8    92.877892   88.381813   84.028956   91.644780\n",
              "9    82.653637   80.214657   83.994237   88.481100\n",
              "10  112.663040  100.984745   83.882818   86.974066\n",
              "11  106.929889   82.135216   82.475897   80.615710\n",
              "12  101.264762   92.444396   93.028723   85.761747\n",
              "13   96.213326   89.142170   88.858406   89.040015\n",
              "14   78.388547   82.561489   84.446005   92.178256\n",
              "15   87.777647   88.359080  107.982333   88.614195\n",
              "16   93.519057   82.525754  113.523264   93.302506\n",
              "17 -101.000000   99.227867  108.878400   97.274766\n",
              "18  104.040000   93.045897   88.878400  103.028475\n",
              "19    0.000000    0.000000    0.000000    0.000000\n",
              "20   81.866257  102.150709   83.990547   81.616468\n",
              "21   84.150502   91.924277 -101.000000   85.858804\n",
              "22    0.000000    0.000000    0.000000    0.000000\n",
              "23   94.040000   98.878400   99.000000 -101.000000\n",
              "24    0.000000    0.000000    0.000000    0.000000"
            ]
          },
          "metadata": {
            "tags": []
          },
          "execution_count": 22
        }
      ]
    },
    {
      "cell_type": "markdown",
      "metadata": {
        "id": "KYscAtUeZ3uq",
        "colab_type": "text"
      },
      "source": [
        "### Let's Play!"
      ]
    },
    {
      "cell_type": "code",
      "metadata": {
        "id": "05eAZIoAZvty",
        "colab_type": "code",
        "outputId": "31b95b4b-9282-48cc-aa24-49bb97b9b2ec",
        "colab": {
          "base_uri": "https://localhost:8080/",
          "height": 269
        }
      },
      "source": [
        "for episode in range(2):\n",
        "  state = env.reset()\n",
        "  \n",
        "  total_reward = 0\n",
        "  \n",
        "  done = False\n",
        "  with output_grid.output_to(0, 0):\n",
        "    output_grid.clear_cell()\n",
        "    env.render()\n",
        "  time.sleep(0.25)\n",
        "  while not done:\n",
        "    action = q_agent.step(state, tradeoff, epsilon)\n",
        "    new_state, reward, done, info = q_agent.env.step(action)\n",
        "    reward -= 1\n",
        "    \n",
        "    total_reward += reward\n",
        "    with output_grid.output_to(0, 0):\n",
        "      output_grid.clear_cell()\n",
        "      env.render()\n",
        "    time.sleep(0.25)\n",
        "    state = new_state\n",
        "    \n",
        "  #print (episode, total_reward)"
      ],
      "execution_count": 23,
      "outputs": [
        {
          "output_type": "display_data",
          "data": {
            "application/javascript": [
              "window[\"4b2bb762-8b30-11e9-9832-0242ac1c0002\"] = google.colab.output.getActiveOutputArea();\n",
              "//# sourceURL=js_d6f64d1c47"
            ],
            "text/plain": [
              "<IPython.core.display.Javascript object>"
            ]
          },
          "metadata": {
            "tags": [
              "id2-0-0",
              "outputarea_id2"
            ]
          }
        },
        {
          "output_type": "display_data",
          "data": {
            "application/javascript": [
              "window[\"4b2c01c2-8b30-11e9-9832-0242ac1c0002\"] = document.querySelector(\"#id2-0-0\");\n",
              "//# sourceURL=js_3627cb228a"
            ],
            "text/plain": [
              "<IPython.core.display.Javascript object>"
            ]
          },
          "metadata": {
            "tags": [
              "id2-0-0",
              "outputarea_id2"
            ]
          }
        },
        {
          "output_type": "display_data",
          "data": {
            "application/javascript": [
              "window[\"4b2c3b60-8b30-11e9-9832-0242ac1c0002\"] = google.colab.output.setActiveOutputArea(window[\"4b2c01c2-8b30-11e9-9832-0242ac1c0002\"]);\n",
              "//# sourceURL=js_48acb8a9ac"
            ],
            "text/plain": [
              "<IPython.core.display.Javascript object>"
            ]
          },
          "metadata": {
            "tags": [
              "id2-0-0",
              "outputarea_id2"
            ]
          }
        },
        {
          "output_type": "display_data",
          "data": {
            "application/javascript": [
              "window[\"4b8c543c-8b30-11e9-9832-0242ac1c0002\"] = google.colab.output.setActiveOutputArea(window[\"4b2bb762-8b30-11e9-9832-0242ac1c0002\"]);\n",
              "//# sourceURL=js_921f73d3df"
            ],
            "text/plain": [
              "<IPython.core.display.Javascript object>"
            ]
          },
          "metadata": {
            "tags": [
              "id2-0-0",
              "outputarea_id2"
            ]
          }
        },
        {
          "output_type": "display_data",
          "data": {
            "application/javascript": [
              "window[\"4bb369c8-8b30-11e9-9832-0242ac1c0002\"] = google.colab.output.getActiveOutputArea();\n",
              "//# sourceURL=js_0dab4be8c7"
            ],
            "text/plain": [
              "<IPython.core.display.Javascript object>"
            ]
          },
          "metadata": {
            "tags": [
              "id2-0-0",
              "outputarea_id2"
            ]
          }
        },
        {
          "output_type": "display_data",
          "data": {
            "application/javascript": [
              "window[\"4bb3997a-8b30-11e9-9832-0242ac1c0002\"] = document.querySelector(\"#id2-0-0\");\n",
              "//# sourceURL=js_f787b2a054"
            ],
            "text/plain": [
              "<IPython.core.display.Javascript object>"
            ]
          },
          "metadata": {
            "tags": [
              "id2-0-0",
              "outputarea_id2"
            ]
          }
        },
        {
          "output_type": "display_data",
          "data": {
            "application/javascript": [
              "window[\"4bb3f6ea-8b30-11e9-9832-0242ac1c0002\"] = google.colab.output.setActiveOutputArea(window[\"4bb3997a-8b30-11e9-9832-0242ac1c0002\"]);\n",
              "//# sourceURL=js_0155fe07c2"
            ],
            "text/plain": [
              "<IPython.core.display.Javascript object>"
            ]
          },
          "metadata": {
            "tags": [
              "id2-0-0",
              "outputarea_id2"
            ]
          }
        },
        {
          "output_type": "display_data",
          "data": {
            "application/javascript": [
              "window[\"4c162482-8b30-11e9-9832-0242ac1c0002\"] = google.colab.output.setActiveOutputArea(window[\"4bb369c8-8b30-11e9-9832-0242ac1c0002\"]);\n",
              "//# sourceURL=js_cf0468e896"
            ],
            "text/plain": [
              "<IPython.core.display.Javascript object>"
            ]
          },
          "metadata": {
            "tags": [
              "id2-0-0",
              "outputarea_id2"
            ]
          }
        },
        {
          "output_type": "display_data",
          "data": {
            "application/javascript": [
              "window[\"4c3e3b52-8b30-11e9-9832-0242ac1c0002\"] = google.colab.output.getActiveOutputArea();\n",
              "//# sourceURL=js_1a042eaa4c"
            ],
            "text/plain": [
              "<IPython.core.display.Javascript object>"
            ]
          },
          "metadata": {
            "tags": [
              "id2-0-0",
              "outputarea_id2"
            ]
          }
        },
        {
          "output_type": "display_data",
          "data": {
            "application/javascript": [
              "window[\"4c3ea808-8b30-11e9-9832-0242ac1c0002\"] = document.querySelector(\"#id2-0-0\");\n",
              "//# sourceURL=js_ee7dc1b440"
            ],
            "text/plain": [
              "<IPython.core.display.Javascript object>"
            ]
          },
          "metadata": {
            "tags": [
              "id2-0-0",
              "outputarea_id2"
            ]
          }
        },
        {
          "output_type": "display_data",
          "data": {
            "application/javascript": [
              "window[\"4c3f07a8-8b30-11e9-9832-0242ac1c0002\"] = google.colab.output.setActiveOutputArea(window[\"4c3ea808-8b30-11e9-9832-0242ac1c0002\"]);\n",
              "//# sourceURL=js_7b3fcc1492"
            ],
            "text/plain": [
              "<IPython.core.display.Javascript object>"
            ]
          },
          "metadata": {
            "tags": [
              "id2-0-0",
              "outputarea_id2"
            ]
          }
        },
        {
          "output_type": "display_data",
          "data": {
            "application/javascript": [
              "window[\"4ca86586-8b30-11e9-9832-0242ac1c0002\"] = google.colab.output.setActiveOutputArea(window[\"4c3e3b52-8b30-11e9-9832-0242ac1c0002\"]);\n",
              "//# sourceURL=js_f1fa35474c"
            ],
            "text/plain": [
              "<IPython.core.display.Javascript object>"
            ]
          },
          "metadata": {
            "tags": [
              "id2-0-0",
              "outputarea_id2"
            ]
          }
        },
        {
          "output_type": "display_data",
          "data": {
            "application/javascript": [
              "window[\"4cd09434-8b30-11e9-9832-0242ac1c0002\"] = google.colab.output.getActiveOutputArea();\n",
              "//# sourceURL=js_43f225ee9b"
            ],
            "text/plain": [
              "<IPython.core.display.Javascript object>"
            ]
          },
          "metadata": {
            "tags": [
              "id2-0-0",
              "outputarea_id2"
            ]
          }
        },
        {
          "output_type": "display_data",
          "data": {
            "application/javascript": [
              "window[\"4cd11314-8b30-11e9-9832-0242ac1c0002\"] = document.querySelector(\"#id2-0-0\");\n",
              "//# sourceURL=js_50e1d96ab3"
            ],
            "text/plain": [
              "<IPython.core.display.Javascript object>"
            ]
          },
          "metadata": {
            "tags": [
              "id2-0-0",
              "outputarea_id2"
            ]
          }
        },
        {
          "output_type": "display_data",
          "data": {
            "application/javascript": [
              "window[\"4cd16562-8b30-11e9-9832-0242ac1c0002\"] = google.colab.output.setActiveOutputArea(window[\"4cd11314-8b30-11e9-9832-0242ac1c0002\"]);\n",
              "//# sourceURL=js_774026b9d6"
            ],
            "text/plain": [
              "<IPython.core.display.Javascript object>"
            ]
          },
          "metadata": {
            "tags": [
              "id2-0-0",
              "outputarea_id2"
            ]
          }
        },
        {
          "output_type": "display_data",
          "data": {
            "application/javascript": [
              "window[\"4d30988e-8b30-11e9-9832-0242ac1c0002\"] = google.colab.output.setActiveOutputArea(window[\"4cd09434-8b30-11e9-9832-0242ac1c0002\"]);\n",
              "//# sourceURL=js_f38d3c7f16"
            ],
            "text/plain": [
              "<IPython.core.display.Javascript object>"
            ]
          },
          "metadata": {
            "tags": [
              "id2-0-0",
              "outputarea_id2"
            ]
          }
        },
        {
          "output_type": "display_data",
          "data": {
            "application/javascript": [
              "window[\"4d58d830-8b30-11e9-9832-0242ac1c0002\"] = google.colab.output.getActiveOutputArea();\n",
              "//# sourceURL=js_94cfc2dcbe"
            ],
            "text/plain": [
              "<IPython.core.display.Javascript object>"
            ]
          },
          "metadata": {
            "tags": [
              "id2-0-0",
              "outputarea_id2"
            ]
          }
        },
        {
          "output_type": "display_data",
          "data": {
            "application/javascript": [
              "window[\"4d591ec6-8b30-11e9-9832-0242ac1c0002\"] = document.querySelector(\"#id2-0-0\");\n",
              "//# sourceURL=js_82a3e80f9f"
            ],
            "text/plain": [
              "<IPython.core.display.Javascript object>"
            ]
          },
          "metadata": {
            "tags": [
              "id2-0-0",
              "outputarea_id2"
            ]
          }
        },
        {
          "output_type": "display_data",
          "data": {
            "application/javascript": [
              "window[\"4d59639a-8b30-11e9-9832-0242ac1c0002\"] = google.colab.output.setActiveOutputArea(window[\"4d591ec6-8b30-11e9-9832-0242ac1c0002\"]);\n",
              "//# sourceURL=js_a499eda9b2"
            ],
            "text/plain": [
              "<IPython.core.display.Javascript object>"
            ]
          },
          "metadata": {
            "tags": [
              "id2-0-0",
              "outputarea_id2"
            ]
          }
        },
        {
          "output_type": "display_data",
          "data": {
            "application/javascript": [
              "window[\"4db709dc-8b30-11e9-9832-0242ac1c0002\"] = google.colab.output.setActiveOutputArea(window[\"4d58d830-8b30-11e9-9832-0242ac1c0002\"]);\n",
              "//# sourceURL=js_6c9d8c35d9"
            ],
            "text/plain": [
              "<IPython.core.display.Javascript object>"
            ]
          },
          "metadata": {
            "tags": [
              "id2-0-0",
              "outputarea_id2"
            ]
          }
        },
        {
          "output_type": "display_data",
          "data": {
            "application/javascript": [
              "window[\"4dde8c3c-8b30-11e9-9832-0242ac1c0002\"] = google.colab.output.getActiveOutputArea();\n",
              "//# sourceURL=js_69c555dfd6"
            ],
            "text/plain": [
              "<IPython.core.display.Javascript object>"
            ]
          },
          "metadata": {
            "tags": [
              "id2-0-0",
              "outputarea_id2"
            ]
          }
        },
        {
          "output_type": "display_data",
          "data": {
            "application/javascript": [
              "window[\"4ddf0072-8b30-11e9-9832-0242ac1c0002\"] = document.querySelector(\"#id2-0-0\");\n",
              "//# sourceURL=js_2ed71a30a6"
            ],
            "text/plain": [
              "<IPython.core.display.Javascript object>"
            ]
          },
          "metadata": {
            "tags": [
              "id2-0-0",
              "outputarea_id2"
            ]
          }
        },
        {
          "output_type": "display_data",
          "data": {
            "application/javascript": [
              "window[\"4ddf5e0a-8b30-11e9-9832-0242ac1c0002\"] = google.colab.output.setActiveOutputArea(window[\"4ddf0072-8b30-11e9-9832-0242ac1c0002\"]);\n",
              "//# sourceURL=js_0e0c5d30c6"
            ],
            "text/plain": [
              "<IPython.core.display.Javascript object>"
            ]
          },
          "metadata": {
            "tags": [
              "id2-0-0",
              "outputarea_id2"
            ]
          }
        },
        {
          "output_type": "display_data",
          "data": {
            "application/javascript": [
              "window[\"4e314012-8b30-11e9-9832-0242ac1c0002\"] = google.colab.output.setActiveOutputArea(window[\"4dde8c3c-8b30-11e9-9832-0242ac1c0002\"]);\n",
              "//# sourceURL=js_5554a64a13"
            ],
            "text/plain": [
              "<IPython.core.display.Javascript object>"
            ]
          },
          "metadata": {
            "tags": [
              "id2-0-0",
              "outputarea_id2"
            ]
          }
        },
        {
          "output_type": "display_data",
          "data": {
            "application/javascript": [
              "window[\"4e58c22c-8b30-11e9-9832-0242ac1c0002\"] = google.colab.output.getActiveOutputArea();\n",
              "//# sourceURL=js_cd917c11ed"
            ],
            "text/plain": [
              "<IPython.core.display.Javascript object>"
            ]
          },
          "metadata": {
            "tags": [
              "id2-0-0",
              "outputarea_id2"
            ]
          }
        },
        {
          "output_type": "display_data",
          "data": {
            "application/javascript": [
              "window[\"4e5906c4-8b30-11e9-9832-0242ac1c0002\"] = document.querySelector(\"#id2-0-0\");\n",
              "//# sourceURL=js_26676aae5b"
            ],
            "text/plain": [
              "<IPython.core.display.Javascript object>"
            ]
          },
          "metadata": {
            "tags": [
              "id2-0-0",
              "outputarea_id2"
            ]
          }
        },
        {
          "output_type": "display_data",
          "data": {
            "application/javascript": [
              "window[\"4e59698e-8b30-11e9-9832-0242ac1c0002\"] = google.colab.output.setActiveOutputArea(window[\"4e5906c4-8b30-11e9-9832-0242ac1c0002\"]);\n",
              "//# sourceURL=js_6d58451335"
            ],
            "text/plain": [
              "<IPython.core.display.Javascript object>"
            ]
          },
          "metadata": {
            "tags": [
              "id2-0-0",
              "outputarea_id2"
            ]
          }
        },
        {
          "output_type": "display_data",
          "data": {
            "application/javascript": [
              "window[\"4ea09034-8b30-11e9-9832-0242ac1c0002\"] = google.colab.output.setActiveOutputArea(window[\"4e58c22c-8b30-11e9-9832-0242ac1c0002\"]);\n",
              "//# sourceURL=js_079ed0122b"
            ],
            "text/plain": [
              "<IPython.core.display.Javascript object>"
            ]
          },
          "metadata": {
            "tags": [
              "id2-0-0",
              "outputarea_id2"
            ]
          }
        },
        {
          "output_type": "display_data",
          "data": {
            "application/javascript": [
              "window[\"4ec87496-8b30-11e9-9832-0242ac1c0002\"] = google.colab.output.getActiveOutputArea();\n",
              "//# sourceURL=js_baf955b5d1"
            ],
            "text/plain": [
              "<IPython.core.display.Javascript object>"
            ]
          },
          "metadata": {
            "tags": [
              "id2-0-0",
              "outputarea_id2"
            ]
          }
        },
        {
          "output_type": "display_data",
          "data": {
            "application/javascript": [
              "window[\"4ec8b29e-8b30-11e9-9832-0242ac1c0002\"] = document.querySelector(\"#id2-0-0\");\n",
              "//# sourceURL=js_a6678432fa"
            ],
            "text/plain": [
              "<IPython.core.display.Javascript object>"
            ]
          },
          "metadata": {
            "tags": [
              "id2-0-0",
              "outputarea_id2"
            ]
          }
        },
        {
          "output_type": "display_data",
          "data": {
            "application/javascript": [
              "window[\"4ec921de-8b30-11e9-9832-0242ac1c0002\"] = google.colab.output.setActiveOutputArea(window[\"4ec8b29e-8b30-11e9-9832-0242ac1c0002\"]);\n",
              "//# sourceURL=js_cc75cde403"
            ],
            "text/plain": [
              "<IPython.core.display.Javascript object>"
            ]
          },
          "metadata": {
            "tags": [
              "id2-0-0",
              "outputarea_id2"
            ]
          }
        },
        {
          "output_type": "display_data",
          "data": {
            "application/javascript": [
              "window[\"4f04bcd0-8b30-11e9-9832-0242ac1c0002\"] = google.colab.output.setActiveOutputArea(window[\"4ec87496-8b30-11e9-9832-0242ac1c0002\"]);\n",
              "//# sourceURL=js_9eb4fb7a06"
            ],
            "text/plain": [
              "<IPython.core.display.Javascript object>"
            ]
          },
          "metadata": {
            "tags": [
              "id2-0-0",
              "outputarea_id2"
            ]
          }
        },
        {
          "output_type": "display_data",
          "data": {
            "application/javascript": [
              "window[\"4f2c68d4-8b30-11e9-9832-0242ac1c0002\"] = google.colab.output.getActiveOutputArea();\n",
              "//# sourceURL=js_c4fb44a0dc"
            ],
            "text/plain": [
              "<IPython.core.display.Javascript object>"
            ]
          },
          "metadata": {
            "tags": [
              "id2-0-0",
              "outputarea_id2"
            ]
          }
        },
        {
          "output_type": "display_data",
          "data": {
            "application/javascript": [
              "window[\"4f2cc770-8b30-11e9-9832-0242ac1c0002\"] = document.querySelector(\"#id2-0-0\");\n",
              "//# sourceURL=js_d3e94515cb"
            ],
            "text/plain": [
              "<IPython.core.display.Javascript object>"
            ]
          },
          "metadata": {
            "tags": [
              "id2-0-0",
              "outputarea_id2"
            ]
          }
        },
        {
          "output_type": "display_data",
          "data": {
            "application/javascript": [
              "window[\"4f2d134c-8b30-11e9-9832-0242ac1c0002\"] = google.colab.output.setActiveOutputArea(window[\"4f2cc770-8b30-11e9-9832-0242ac1c0002\"]);\n",
              "//# sourceURL=js_bac2bee1ec"
            ],
            "text/plain": [
              "<IPython.core.display.Javascript object>"
            ]
          },
          "metadata": {
            "tags": [
              "id2-0-0",
              "outputarea_id2"
            ]
          }
        },
        {
          "output_type": "display_data",
          "data": {
            "application/javascript": [
              "window[\"4f66ded8-8b30-11e9-9832-0242ac1c0002\"] = google.colab.output.setActiveOutputArea(window[\"4f2c68d4-8b30-11e9-9832-0242ac1c0002\"]);\n",
              "//# sourceURL=js_5fdf689e66"
            ],
            "text/plain": [
              "<IPython.core.display.Javascript object>"
            ]
          },
          "metadata": {
            "tags": [
              "id2-0-0",
              "outputarea_id2"
            ]
          }
        },
        {
          "output_type": "display_data",
          "data": {
            "application/javascript": [
              "window[\"4f8eae72-8b30-11e9-9832-0242ac1c0002\"] = google.colab.output.getActiveOutputArea();\n",
              "//# sourceURL=js_b2381f211e"
            ],
            "text/plain": [
              "<IPython.core.display.Javascript object>"
            ]
          },
          "metadata": {
            "tags": [
              "id2-0-0",
              "outputarea_id2"
            ]
          }
        },
        {
          "output_type": "display_data",
          "data": {
            "application/javascript": [
              "window[\"4f8ef8b4-8b30-11e9-9832-0242ac1c0002\"] = document.querySelector(\"#id2-0-0\");\n",
              "//# sourceURL=js_b419b7307f"
            ],
            "text/plain": [
              "<IPython.core.display.Javascript object>"
            ]
          },
          "metadata": {
            "tags": [
              "id2-0-0",
              "outputarea_id2"
            ]
          }
        },
        {
          "output_type": "display_data",
          "data": {
            "application/javascript": [
              "window[\"4f8f408a-8b30-11e9-9832-0242ac1c0002\"] = google.colab.output.setActiveOutputArea(window[\"4f8ef8b4-8b30-11e9-9832-0242ac1c0002\"]);\n",
              "//# sourceURL=js_7b2115272f"
            ],
            "text/plain": [
              "<IPython.core.display.Javascript object>"
            ]
          },
          "metadata": {
            "tags": [
              "id2-0-0",
              "outputarea_id2"
            ]
          }
        },
        {
          "output_type": "display_data",
          "data": {
            "application/javascript": [
              "window[\"4ffa5e7e-8b30-11e9-9832-0242ac1c0002\"] = google.colab.output.setActiveOutputArea(window[\"4f8eae72-8b30-11e9-9832-0242ac1c0002\"]);\n",
              "//# sourceURL=js_cf388f85b9"
            ],
            "text/plain": [
              "<IPython.core.display.Javascript object>"
            ]
          },
          "metadata": {
            "tags": [
              "id2-0-0",
              "outputarea_id2"
            ]
          }
        },
        {
          "output_type": "display_data",
          "data": {
            "application/javascript": [
              "window[\"50238cb8-8b30-11e9-9832-0242ac1c0002\"] = google.colab.output.getActiveOutputArea();\n",
              "//# sourceURL=js_6fcd6f3781"
            ],
            "text/plain": [
              "<IPython.core.display.Javascript object>"
            ]
          },
          "metadata": {
            "tags": [
              "id2-0-0",
              "outputarea_id2"
            ]
          }
        },
        {
          "output_type": "display_data",
          "data": {
            "application/javascript": [
              "window[\"5023d2c2-8b30-11e9-9832-0242ac1c0002\"] = document.querySelector(\"#id2-0-0\");\n",
              "//# sourceURL=js_719110da07"
            ],
            "text/plain": [
              "<IPython.core.display.Javascript object>"
            ]
          },
          "metadata": {
            "tags": [
              "id2-0-0",
              "outputarea_id2"
            ]
          }
        },
        {
          "output_type": "display_data",
          "data": {
            "application/javascript": [
              "window[\"50241d68-8b30-11e9-9832-0242ac1c0002\"] = google.colab.output.setActiveOutputArea(window[\"5023d2c2-8b30-11e9-9832-0242ac1c0002\"]);\n",
              "//# sourceURL=js_ae1eee2e65"
            ],
            "text/plain": [
              "<IPython.core.display.Javascript object>"
            ]
          },
          "metadata": {
            "tags": [
              "id2-0-0",
              "outputarea_id2"
            ]
          }
        },
        {
          "output_type": "display_data",
          "data": {
            "application/javascript": [
              "window[\"5095f816-8b30-11e9-9832-0242ac1c0002\"] = google.colab.output.setActiveOutputArea(window[\"50238cb8-8b30-11e9-9832-0242ac1c0002\"]);\n",
              "//# sourceURL=js_1ee5a68615"
            ],
            "text/plain": [
              "<IPython.core.display.Javascript object>"
            ]
          },
          "metadata": {
            "tags": [
              "id2-0-0",
              "outputarea_id2"
            ]
          }
        },
        {
          "output_type": "display_data",
          "data": {
            "application/javascript": [
              "window[\"50be5f90-8b30-11e9-9832-0242ac1c0002\"] = google.colab.output.getActiveOutputArea();\n",
              "//# sourceURL=js_8b85abccb2"
            ],
            "text/plain": [
              "<IPython.core.display.Javascript object>"
            ]
          },
          "metadata": {
            "tags": [
              "id2-0-0",
              "outputarea_id2"
            ]
          }
        },
        {
          "output_type": "display_data",
          "data": {
            "application/javascript": [
              "window[\"50bee8f2-8b30-11e9-9832-0242ac1c0002\"] = document.querySelector(\"#id2-0-0\");\n",
              "//# sourceURL=js_0643866443"
            ],
            "text/plain": [
              "<IPython.core.display.Javascript object>"
            ]
          },
          "metadata": {
            "tags": [
              "id2-0-0",
              "outputarea_id2"
            ]
          }
        },
        {
          "output_type": "display_data",
          "data": {
            "application/javascript": [
              "window[\"50bf31ae-8b30-11e9-9832-0242ac1c0002\"] = google.colab.output.setActiveOutputArea(window[\"50bee8f2-8b30-11e9-9832-0242ac1c0002\"]);\n",
              "//# sourceURL=js_62c0d6ce5d"
            ],
            "text/plain": [
              "<IPython.core.display.Javascript object>"
            ]
          },
          "metadata": {
            "tags": [
              "id2-0-0",
              "outputarea_id2"
            ]
          }
        },
        {
          "output_type": "display_data",
          "data": {
            "application/javascript": [
              "window[\"512d21b4-8b30-11e9-9832-0242ac1c0002\"] = google.colab.output.setActiveOutputArea(window[\"50be5f90-8b30-11e9-9832-0242ac1c0002\"]);\n",
              "//# sourceURL=js_5508c908c1"
            ],
            "text/plain": [
              "<IPython.core.display.Javascript object>"
            ]
          },
          "metadata": {
            "tags": [
              "id2-0-0",
              "outputarea_id2"
            ]
          }
        },
        {
          "output_type": "display_data",
          "data": {
            "application/javascript": [
              "window[\"515599f0-8b30-11e9-9832-0242ac1c0002\"] = google.colab.output.getActiveOutputArea();\n",
              "//# sourceURL=js_b936bfbc73"
            ],
            "text/plain": [
              "<IPython.core.display.Javascript object>"
            ]
          },
          "metadata": {
            "tags": [
              "id2-0-0",
              "outputarea_id2"
            ]
          }
        },
        {
          "output_type": "display_data",
          "data": {
            "application/javascript": [
              "window[\"5156629a-8b30-11e9-9832-0242ac1c0002\"] = document.querySelector(\"#id2-0-0\");\n",
              "//# sourceURL=js_81d7b2fdf1"
            ],
            "text/plain": [
              "<IPython.core.display.Javascript object>"
            ]
          },
          "metadata": {
            "tags": [
              "id2-0-0",
              "outputarea_id2"
            ]
          }
        },
        {
          "output_type": "display_data",
          "data": {
            "application/javascript": [
              "window[\"5156b92a-8b30-11e9-9832-0242ac1c0002\"] = google.colab.output.setActiveOutputArea(window[\"5156629a-8b30-11e9-9832-0242ac1c0002\"]);\n",
              "//# sourceURL=js_2dd37ef42b"
            ],
            "text/plain": [
              "<IPython.core.display.Javascript object>"
            ]
          },
          "metadata": {
            "tags": [
              "id2-0-0",
              "outputarea_id2"
            ]
          }
        },
        {
          "output_type": "display_data",
          "data": {
            "application/javascript": [
              "window[\"51b7f118-8b30-11e9-9832-0242ac1c0002\"] = google.colab.output.setActiveOutputArea(window[\"515599f0-8b30-11e9-9832-0242ac1c0002\"]);\n",
              "//# sourceURL=js_df06392003"
            ],
            "text/plain": [
              "<IPython.core.display.Javascript object>"
            ]
          },
          "metadata": {
            "tags": [
              "id2-0-0",
              "outputarea_id2"
            ]
          }
        },
        {
          "output_type": "display_data",
          "data": {
            "application/javascript": [
              "window[\"51e15f76-8b30-11e9-9832-0242ac1c0002\"] = google.colab.output.getActiveOutputArea();\n",
              "//# sourceURL=js_df87060249"
            ],
            "text/plain": [
              "<IPython.core.display.Javascript object>"
            ]
          },
          "metadata": {
            "tags": [
              "id2-0-0",
              "outputarea_id2"
            ]
          }
        },
        {
          "output_type": "display_data",
          "data": {
            "application/javascript": [
              "window[\"51e243d2-8b30-11e9-9832-0242ac1c0002\"] = document.querySelector(\"#id2-0-0\");\n",
              "//# sourceURL=js_dc493ad612"
            ],
            "text/plain": [
              "<IPython.core.display.Javascript object>"
            ]
          },
          "metadata": {
            "tags": [
              "id2-0-0",
              "outputarea_id2"
            ]
          }
        },
        {
          "output_type": "display_data",
          "data": {
            "application/javascript": [
              "window[\"51e27fbe-8b30-11e9-9832-0242ac1c0002\"] = google.colab.output.setActiveOutputArea(window[\"51e243d2-8b30-11e9-9832-0242ac1c0002\"]);\n",
              "//# sourceURL=js_f7e729a358"
            ],
            "text/plain": [
              "<IPython.core.display.Javascript object>"
            ]
          },
          "metadata": {
            "tags": [
              "id2-0-0",
              "outputarea_id2"
            ]
          }
        },
        {
          "output_type": "display_data",
          "data": {
            "application/javascript": [
              "window[\"5253f298-8b30-11e9-9832-0242ac1c0002\"] = google.colab.output.setActiveOutputArea(window[\"51e15f76-8b30-11e9-9832-0242ac1c0002\"]);\n",
              "//# sourceURL=js_e5a5ed074c"
            ],
            "text/plain": [
              "<IPython.core.display.Javascript object>"
            ]
          },
          "metadata": {
            "tags": [
              "id2-0-0",
              "outputarea_id2"
            ]
          }
        },
        {
          "output_type": "display_data",
          "data": {
            "application/javascript": [
              "window[\"527d1b14-8b30-11e9-9832-0242ac1c0002\"] = google.colab.output.getActiveOutputArea();\n",
              "//# sourceURL=js_60fc72d43d"
            ],
            "text/plain": [
              "<IPython.core.display.Javascript object>"
            ]
          },
          "metadata": {
            "tags": [
              "id2-0-0",
              "outputarea_id2"
            ]
          }
        },
        {
          "output_type": "display_data",
          "data": {
            "application/javascript": [
              "window[\"527e27ca-8b30-11e9-9832-0242ac1c0002\"] = document.querySelector(\"#id2-0-0\");\n",
              "//# sourceURL=js_b09c1c7c8b"
            ],
            "text/plain": [
              "<IPython.core.display.Javascript object>"
            ]
          },
          "metadata": {
            "tags": [
              "id2-0-0",
              "outputarea_id2"
            ]
          }
        },
        {
          "output_type": "display_data",
          "data": {
            "application/javascript": [
              "window[\"527e7112-8b30-11e9-9832-0242ac1c0002\"] = google.colab.output.setActiveOutputArea(window[\"527e27ca-8b30-11e9-9832-0242ac1c0002\"]);\n",
              "//# sourceURL=js_803f89713a"
            ],
            "text/plain": [
              "<IPython.core.display.Javascript object>"
            ]
          },
          "metadata": {
            "tags": [
              "id2-0-0",
              "outputarea_id2"
            ]
          }
        },
        {
          "output_type": "display_data",
          "data": {
            "application/javascript": [
              "window[\"52d27a78-8b30-11e9-9832-0242ac1c0002\"] = google.colab.output.setActiveOutputArea(window[\"527d1b14-8b30-11e9-9832-0242ac1c0002\"]);\n",
              "//# sourceURL=js_a7d9924d88"
            ],
            "text/plain": [
              "<IPython.core.display.Javascript object>"
            ]
          },
          "metadata": {
            "tags": [
              "id2-0-0",
              "outputarea_id2"
            ]
          }
        },
        {
          "output_type": "display_data",
          "data": {
            "application/javascript": [
              "window[\"52fb16e0-8b30-11e9-9832-0242ac1c0002\"] = google.colab.output.getActiveOutputArea();\n",
              "//# sourceURL=js_1738f8f55b"
            ],
            "text/plain": [
              "<IPython.core.display.Javascript object>"
            ]
          },
          "metadata": {
            "tags": [
              "id2-0-0",
              "outputarea_id2"
            ]
          }
        },
        {
          "output_type": "display_data",
          "data": {
            "application/javascript": [
              "window[\"52fba47a-8b30-11e9-9832-0242ac1c0002\"] = document.querySelector(\"#id2-0-0\");\n",
              "//# sourceURL=js_54f5475a6f"
            ],
            "text/plain": [
              "<IPython.core.display.Javascript object>"
            ]
          },
          "metadata": {
            "tags": [
              "id2-0-0",
              "outputarea_id2"
            ]
          }
        },
        {
          "output_type": "display_data",
          "data": {
            "application/javascript": [
              "window[\"52fc382c-8b30-11e9-9832-0242ac1c0002\"] = google.colab.output.setActiveOutputArea(window[\"52fba47a-8b30-11e9-9832-0242ac1c0002\"]);\n",
              "//# sourceURL=js_a3ee880490"
            ],
            "text/plain": [
              "<IPython.core.display.Javascript object>"
            ]
          },
          "metadata": {
            "tags": [
              "id2-0-0",
              "outputarea_id2"
            ]
          }
        },
        {
          "output_type": "display_data",
          "data": {
            "application/javascript": [
              "window[\"5342dcaa-8b30-11e9-9832-0242ac1c0002\"] = google.colab.output.setActiveOutputArea(window[\"52fb16e0-8b30-11e9-9832-0242ac1c0002\"]);\n",
              "//# sourceURL=js_2b93ea072e"
            ],
            "text/plain": [
              "<IPython.core.display.Javascript object>"
            ]
          },
          "metadata": {
            "tags": [
              "id2-0-0",
              "outputarea_id2"
            ]
          }
        },
        {
          "output_type": "display_data",
          "data": {
            "application/javascript": [
              "window[\"536a4434-8b30-11e9-9832-0242ac1c0002\"] = google.colab.output.getActiveOutputArea();\n",
              "//# sourceURL=js_88f4f08c83"
            ],
            "text/plain": [
              "<IPython.core.display.Javascript object>"
            ]
          },
          "metadata": {
            "tags": [
              "id2-0-0",
              "outputarea_id2"
            ]
          }
        },
        {
          "output_type": "display_data",
          "data": {
            "application/javascript": [
              "window[\"536a849e-8b30-11e9-9832-0242ac1c0002\"] = document.querySelector(\"#id2-0-0\");\n",
              "//# sourceURL=js_a0c45d6705"
            ],
            "text/plain": [
              "<IPython.core.display.Javascript object>"
            ]
          },
          "metadata": {
            "tags": [
              "id2-0-0",
              "outputarea_id2"
            ]
          }
        },
        {
          "output_type": "display_data",
          "data": {
            "application/javascript": [
              "window[\"536adb4c-8b30-11e9-9832-0242ac1c0002\"] = google.colab.output.setActiveOutputArea(window[\"536a849e-8b30-11e9-9832-0242ac1c0002\"]);\n",
              "//# sourceURL=js_1f874bea47"
            ],
            "text/plain": [
              "<IPython.core.display.Javascript object>"
            ]
          },
          "metadata": {
            "tags": [
              "id2-0-0",
              "outputarea_id2"
            ]
          }
        },
        {
          "output_type": "display_data",
          "data": {
            "application/javascript": [
              "window[\"53a57234-8b30-11e9-9832-0242ac1c0002\"] = google.colab.output.setActiveOutputArea(window[\"536a4434-8b30-11e9-9832-0242ac1c0002\"]);\n",
              "//# sourceURL=js_a52e137393"
            ],
            "text/plain": [
              "<IPython.core.display.Javascript object>"
            ]
          },
          "metadata": {
            "tags": [
              "id2-0-0",
              "outputarea_id2"
            ]
          }
        },
        {
          "output_type": "display_data",
          "data": {
            "application/javascript": [
              "window[\"53cd15b4-8b30-11e9-9832-0242ac1c0002\"] = google.colab.output.getActiveOutputArea();\n",
              "//# sourceURL=js_8ed9c091f2"
            ],
            "text/plain": [
              "<IPython.core.display.Javascript object>"
            ]
          },
          "metadata": {
            "tags": [
              "id2-0-0",
              "outputarea_id2"
            ]
          }
        },
        {
          "output_type": "display_data",
          "data": {
            "application/javascript": [
              "window[\"53cd8800-8b30-11e9-9832-0242ac1c0002\"] = document.querySelector(\"#id2-0-0\");\n",
              "//# sourceURL=js_2c27301a00"
            ],
            "text/plain": [
              "<IPython.core.display.Javascript object>"
            ]
          },
          "metadata": {
            "tags": [
              "id2-0-0",
              "outputarea_id2"
            ]
          }
        },
        {
          "output_type": "display_data",
          "data": {
            "application/javascript": [
              "window[\"53cdd350-8b30-11e9-9832-0242ac1c0002\"] = google.colab.output.setActiveOutputArea(window[\"53cd8800-8b30-11e9-9832-0242ac1c0002\"]);\n",
              "//# sourceURL=js_1787c5e050"
            ],
            "text/plain": [
              "<IPython.core.display.Javascript object>"
            ]
          },
          "metadata": {
            "tags": [
              "id2-0-0",
              "outputarea_id2"
            ]
          }
        },
        {
          "output_type": "display_data",
          "data": {
            "image/png": "[encoded data removed]",
            "text/plain": [
              "<Figure size 432x288 with 1 Axes>"
            ]
          },
          "metadata": {
            "tags": [
              "id2-0-0",
              "outputarea_id2",
              "user_output"
            ]
          }
        },
        {
          "output_type": "display_data",
          "data": {
            "application/javascript": [
              "window[\"540755ee-8b30-11e9-9832-0242ac1c0002\"] = google.colab.output.setActiveOutputArea(window[\"53cd15b4-8b30-11e9-9832-0242ac1c0002\"]);\n",
              "//# sourceURL=js_603f9ad18d"
            ],
            "text/plain": [
              "<IPython.core.display.Javascript object>"
            ]
          },
          "metadata": {
            "tags": [
              "id2-0-0",
              "outputarea_id2"
            ]
          }
        }
      ]
    },
    {
      "cell_type": "markdown",
      "metadata": {
        "id": "GuTN8pgpaJ_b",
        "colab_type": "text"
      },
      "source": [
        "#Conclusions"
      ]
    },
    {
      "cell_type": "markdown",
      "metadata": {
        "id": "yuSQEUK8aMyQ",
        "colab_type": "text"
      },
      "source": [
        "More stochastic the environment is, the harder it is for the agent to learn.\n",
        "\n",
        "In this case the agent performs relatively well when the randomness (chance of slipping) in the environment is small (< 0.1), and it get harder as the p increased to 0.15. After that, the agent is simply unable to learn.   "
      ]
    }
  ]
}